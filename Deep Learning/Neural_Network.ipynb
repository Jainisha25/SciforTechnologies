{
  "nbformat": 4,
  "nbformat_minor": 0,
  "metadata": {
    "colab": {
      "provenance": []
    },
    "kernelspec": {
      "name": "python3",
      "display_name": "Python 3"
    },
    "language_info": {
      "name": "python"
    }
  },
  "cells": [
    {
      "cell_type": "code",
      "source": [
        "# Creating data set\n",
        "\n",
        "# A\n",
        "a =[0, 0, 1, 1, 0, 0,\n",
        "   0, 1, 0, 0, 1, 0,\n",
        "   1, 1, 1, 1, 1, 1,\n",
        "   1, 0, 0, 0, 0, 1,\n",
        "   1, 0, 0, 0, 0, 1]\n",
        "# B\n",
        "b =[0, 1, 1, 1, 1, 0,\n",
        "   0, 1, 0, 0, 1, 0,\n",
        "   0, 1, 1, 1, 1, 0,\n",
        "   0, 1, 0, 0, 1, 0,\n",
        "   0, 1, 1, 1, 1, 0]\n",
        "# C\n",
        "c =[0, 1, 1, 1, 1, 0,\n",
        "   0, 1, 0, 0, 0, 0,\n",
        "   0, 1, 0, 0, 0, 0,\n",
        "   0, 1, 0, 0, 0, 0,\n",
        "   0, 1, 1, 1, 1, 0]\n",
        "\n",
        "# Creating labels\n",
        "y =[[1, 0, 0],\n",
        "   [0, 1, 0],\n",
        "   [0, 0, 1]]"
      ],
      "metadata": {
        "id": "kqQpQxlE2_46"
      },
      "execution_count": 18,
      "outputs": []
    },
    {
      "cell_type": "code",
      "source": [
        "import numpy as np\n",
        "import matplotlib.pyplot as plt\n",
        "# visualizing the data, plotting A.\n",
        "plt.imshow(np.array(a).reshape(5, 6))\n",
        "plt.show()"
      ],
      "metadata": {
        "colab": {
          "base_uri": "https://localhost:8080/",
          "height": 430
        },
        "id": "3bcL_C003EUk",
        "outputId": "089e8f2e-5b6a-4d87-ef22-a5f6f972abe6"
      },
      "execution_count": 19,
      "outputs": [
        {
          "output_type": "display_data",
          "data": {
            "text/plain": [
              "<Figure size 640x480 with 1 Axes>"
            ],
            "image/png": "[encoded data removed]"
          },
          "metadata": {}
        }
      ]
    },
    {
      "cell_type": "code",
      "source": [
        "x =[np.array(a).reshape(1, 30), np.array(b).reshape(1, 30),\n",
        "                                np.array(c).reshape(1, 30)]\n",
        "\n",
        "\n",
        "# Labels are also converted into NumPy array\n",
        "y = np.array(y)\n",
        "\n",
        "\n",
        "print(x, \"\\n\\n\", y)"
      ],
      "metadata": {
        "colab": {
          "base_uri": "https://localhost:8080/"
        },
        "id": "uKIdNXxp3GHU",
        "outputId": "55f0c584-233e-4bc1-8df7-94fccb0f42de"
      },
      "execution_count": 20,
      "outputs": [
        {
          "output_type": "stream",
          "name": "stdout",
          "text": [
            "[array([[0, 0, 1, 1, 0, 0, 0, 1, 0, 0, 1, 0, 1, 1, 1, 1, 1, 1, 1, 0, 0, 0,\n",
            "        0, 1, 1, 0, 0, 0, 0, 1]]), array([[0, 1, 1, 1, 1, 0, 0, 1, 0, 0, 1, 0, 0, 1, 1, 1, 1, 0, 0, 1, 0, 0,\n",
            "        1, 0, 0, 1, 1, 1, 1, 0]]), array([[0, 1, 1, 1, 1, 0, 0, 1, 0, 0, 0, 0, 0, 1, 0, 0, 0, 0, 0, 1, 0, 0,\n",
            "        0, 0, 0, 1, 1, 1, 1, 0]])] \n",
            "\n",
            " [[1 0 0]\n",
            " [0 1 0]\n",
            " [0 0 1]]\n"
          ]
        }
      ]
    },
    {
      "cell_type": "code",
      "source": [
        "# activation function\n",
        "\n",
        "def sigmoid(x):\n",
        "    return(1/(1 + np.exp(-x)))\n",
        "\n",
        "# Creating the Feed forward neural network\n",
        "# 1 Input layer(1, 30)\n",
        "# 1 hidden layer (1, 5)\n",
        "# 1 output layer(3, 3)\n",
        "\n",
        "def f_forward(x, w1, w2):\n",
        "    # hidden\n",
        "    z1 = x.dot(w1)# input from layer 1\n",
        "    a1 = sigmoid(z1)# out put of layer 2\n",
        "\n",
        "    # Output layer\n",
        "    z2 = a1.dot(w2)# input of out layer\n",
        "    a2 = sigmoid(z2)# output of out layer\n",
        "    return(a2)\n",
        "\n",
        "# initializing the weights randomly\n",
        "def generate_wt(x, y):\n",
        "    l =[]\n",
        "    for i in range(x * y):\n",
        "        l.append(np.random.randn())\n",
        "    return(np.array(l).reshape(x, y))\n",
        "\n",
        "# for loss we will be using mean square error(MSE)\n",
        "def loss(out, Y):\n",
        "    s =(np.square(out-Y))\n",
        "    s = np.sum(s)/len(y)\n",
        "    return(s)\n",
        "\n",
        "# Back propagation of error\n",
        "def back_prop(x, y, w1, w2, alpha):\n",
        "\n",
        "    # hidden layer\n",
        "    z1 = x.dot(w1)# input from layer 1\n",
        "    a1 = sigmoid(z1)# output of layer 2\n",
        "\n",
        "    # Output layer\n",
        "    z2 = a1.dot(w2)# input of out layer\n",
        "    a2 = sigmoid(z2)# output of out layer\n",
        "    # error in output layer\n",
        "    d2 =(a2-y)\n",
        "    d1 = np.multiply((w2.dot((d2.transpose()))).transpose(),\n",
        "                                   (np.multiply(a1, 1-a1)))\n",
        "\n",
        "    # Gradient for w1 and w2\n",
        "    w1_adj = x.transpose().dot(d1)\n",
        "    w2_adj = a1.transpose().dot(d2)\n",
        "\n",
        "    # Updating parameters\n",
        "    w1 = w1-(alpha*(w1_adj))\n",
        "    w2 = w2-(alpha*(w2_adj))\n",
        "\n",
        "    return(w1, w2)\n",
        "\n",
        "def train(x, Y, w1, w2, alpha = 0.01, epoch = 10):\n",
        "    acc =[]\n",
        "    losss =[]\n",
        "    for j in range(epoch):\n",
        "        l =[]\n",
        "        for i in range(len(x)):\n",
        "            out = f_forward(x[i], w1, w2)\n",
        "            l.append((loss(out, Y[i])))\n",
        "            w1, w2 = back_prop(x[i], y[i], w1, w2, alpha)\n",
        "        print(\"epochs:\", j + 1, \"======== acc:\", (1-(sum(l)/len(x)))*100)\n",
        "        acc.append((1-(sum(l)/len(x)))*100)\n",
        "        losss.append(sum(l)/len(x))\n",
        "    return(acc, losss, w1, w2)\n",
        "\n",
        "def predict(x, w1, w2):\n",
        "    Out = f_forward(x, w1, w2)\n",
        "    maxm = 0\n",
        "    k = 0\n",
        "    for i in range(len(Out[0])):\n",
        "        if(maxm<Out[0][i]):\n",
        "            maxm = Out[0][i]\n",
        "            k = i\n",
        "    if(k == 0):\n",
        "        print(\"Image is of letter A.\")\n",
        "    elif(k == 1):\n",
        "        print(\"Image is of letter B.\")\n",
        "    else:\n",
        "        print(\"Image is of letter C.\")\n",
        "    plt.imshow(x.reshape(5, 6))\n",
        "    plt.show()"
      ],
      "metadata": {
        "id": "CKVjCual3KBH"
      },
      "execution_count": 25,
      "outputs": []
    },
    {
      "cell_type": "code",
      "source": [
        "w1 = generate_wt(30, 5)\n",
        "w2 = generate_wt(5, 3)\n",
        "print(w1, \"\\n\\n\", w2)"
      ],
      "metadata": {
        "colab": {
          "base_uri": "https://localhost:8080/"
        },
        "id": "qMtHKunz3REl",
        "outputId": "76f54acc-601f-4278-856f-2e4359572b09"
      },
      "execution_count": 26,
      "outputs": [
        {
          "output_type": "stream",
          "name": "stdout",
          "text": [
            "[[-0.5785071  -0.19192817  0.24778008 -0.75424445 -0.58824609]\n",
            " [ 0.21336858  1.0721223   1.31996979  0.28137961  0.8789379 ]\n",
            " [-0.61123423  1.61044851 -0.85814251  0.46861601 -0.65529802]\n",
            " [ 1.71782419 -0.2145454   0.60449696  0.32800099 -0.93757014]\n",
            " [-0.0639658  -0.24204519  1.38997193 -0.56394561  2.03654654]\n",
            " [-0.30830482  0.87817226 -1.0471948   0.53372823 -0.36674599]\n",
            " [ 1.03095443  1.51702226  1.59400691 -0.40794991  0.8470127 ]\n",
            " [-0.34004552  3.18883548 -0.31849105  0.76514821  2.09715737]\n",
            " [ 0.50178485 -0.4072402  -2.15674723  0.30005849 -1.68423131]\n",
            " [ 0.85040487 -1.18709647  0.35864012  0.24648263 -0.65030738]\n",
            " [-1.28344484 -0.31156021  1.0222735  -0.32839636 -0.51493383]\n",
            " [ 0.75333782  1.27996325  0.27722645  0.5977889   1.31569011]\n",
            " [ 0.63114379  0.14250126 -0.39377455 -0.28703325 -0.44529601]\n",
            " [-0.36905994  0.34579514  0.2366853   0.15702437  1.19518369]\n",
            " [-1.24926335 -0.19477075  0.05379916 -1.69667455  0.7888216 ]\n",
            " [-0.53997969 -0.2168746   0.33215963 -0.79990948  0.20645042]\n",
            " [-0.76459092  1.21144704 -0.41012267 -0.32119767 -0.07653917]\n",
            " [ 1.29690036  0.33918535 -0.60676276 -0.33152725 -1.23143039]\n",
            " [ 1.33813226  1.57482713 -1.74213123 -1.16975314  0.74853635]\n",
            " [ 0.99416636  0.91165146 -0.86781601  0.32586036  1.61192158]\n",
            " [-1.66205887 -0.57805604 -1.99540857 -1.18874517  0.74038165]\n",
            " [ 0.54635926 -2.38029644  1.26725025  0.1367834  -0.39952735]\n",
            " [ 0.03677027  0.82499853 -1.07921664 -1.23925383  0.87146828]\n",
            " [ 0.88545901 -0.48614815  1.02621948 -2.40804893 -1.52395152]\n",
            " [-1.44195993  0.36318366  0.48699392  0.45056902  0.66812689]\n",
            " [-1.39109958  0.06052878 -0.26894369  0.73326636  0.28536294]\n",
            " [-0.33005371  0.83236481 -0.32073286  0.12310374  0.87123814]\n",
            " [ 0.19540436 -2.06695156  1.20089263 -1.18930724 -1.91041893]\n",
            " [ 0.21714207 -0.20827235  0.59476397  1.05823195 -1.24385053]\n",
            " [-1.71655977 -1.85840571  0.05814431 -1.16002403  0.37388462]] \n",
            "\n",
            " [[ 0.69667006 -0.00999691 -1.43515533]\n",
            " [ 0.63567214  0.64327721  0.60687198]\n",
            " [ 0.42644582 -0.50939747  0.17043515]\n",
            " [ 0.30359736 -0.60253138 -1.98275179]\n",
            " [-0.03571779 -1.42143202 -0.53259495]]\n"
          ]
        }
      ]
    },
    {
      "cell_type": "code",
      "source": [
        "acc, losss, w1, w2 = train(x, y, w1, w2, 0.1, 100)"
      ],
      "metadata": {
        "colab": {
          "base_uri": "https://localhost:8080/"
        },
        "id": "Fs-ekH6y3e3X",
        "outputId": "01bf178d-cbb4-438a-9e3f-cc73ac18ebe9"
      },
      "execution_count": 27,
      "outputs": [
        {
          "output_type": "stream",
          "name": "stdout",
          "text": [
            "epochs: 1 ======== acc: 60.803367179164304\n",
            "epochs: 2 ======== acc: 63.76535000318506\n",
            "epochs: 3 ======== acc: 66.32518257665518\n",
            "epochs: 4 ======== acc: 68.27182847902904\n",
            "epochs: 5 ======== acc: 69.6883188680789\n",
            "epochs: 6 ======== acc: 70.73993057027312\n",
            "epochs: 7 ======== acc: 71.56228340931168\n",
            "epochs: 8 ======== acc: 72.24533945318991\n",
            "epochs: 9 ======== acc: 72.84447972634169\n",
            "epochs: 10 ======== acc: 73.39265780205295\n",
            "epochs: 11 ======== acc: 73.90889409286348\n",
            "epochs: 12 ======== acc: 74.40363099085549\n",
            "epochs: 13 ======== acc: 74.88208745310766\n",
            "epochs: 14 ======== acc: 75.34644499112622\n",
            "epochs: 15 ======== acc: 75.79734525528193\n",
            "epochs: 16 ======== acc: 76.23493709575874\n",
            "epochs: 17 ======== acc: 76.65958056578586\n",
            "epochs: 18 ======== acc: 77.072269427263\n",
            "epochs: 19 ======== acc: 77.4748342771449\n",
            "epochs: 20 ======== acc: 77.86999745095025\n",
            "epochs: 21 ======== acc: 78.2613435261772\n",
            "epochs: 22 ======== acc: 78.65323767122152\n",
            "epochs: 23 ======== acc: 79.05066986562743\n",
            "epochs: 24 ======== acc: 79.45893038233586\n",
            "epochs: 25 ======== acc: 79.88294743255918\n",
            "epochs: 26 ======== acc: 80.32610715413992\n",
            "epochs: 27 ======== acc: 80.78858455955915\n",
            "epochs: 28 ======== acc: 81.26579670795392\n",
            "epochs: 29 ======== acc: 81.74827514011105\n",
            "epochs: 30 ======== acc: 82.22398464285945\n",
            "epochs: 31 ======== acc: 82.68223045652104\n",
            "epochs: 32 ======== acc: 83.11661635779842\n",
            "epochs: 33 ======== acc: 83.52544991588798\n",
            "epochs: 34 ======== acc: 83.91029782491415\n",
            "epochs: 35 ======== acc: 84.27423865383419\n",
            "epochs: 36 ======== acc: 84.62065775129365\n",
            "epochs: 37 ======== acc: 84.95264570551075\n",
            "epochs: 38 ======== acc: 85.27278093554311\n",
            "epochs: 39 ======== acc: 85.58309850490718\n",
            "epochs: 40 ======== acc: 85.88513247470408\n",
            "epochs: 41 ======== acc: 86.1799812642458\n",
            "epochs: 42 ======== acc: 86.46837758160318\n",
            "epochs: 43 ======== acc: 86.75075775499876\n",
            "epochs: 44 ======== acc: 87.02732928363773\n",
            "epochs: 45 ======== acc: 87.29813561731218\n",
            "epochs: 46 ======== acc: 87.5631163349697\n",
            "epochs: 47 ======== acc: 87.82216029384558\n",
            "epochs: 48 ======== acc: 88.07514940658947\n",
            "epochs: 49 ======== acc: 88.32199144591293\n",
            "epochs: 50 ======== acc: 88.5626414051536\n",
            "epochs: 51 ======== acc: 88.7971121242607\n",
            "epochs: 52 ======== acc: 89.02547584827883\n",
            "epochs: 53 ======== acc: 89.2478589641632\n",
            "epochs: 54 ======== acc: 89.46443233195697\n",
            "epochs: 55 ======== acc: 89.67539945221515\n",
            "epochs: 56 ======== acc: 89.88098430660561\n",
            "epochs: 57 ======== acc: 90.08142019539656\n",
            "epochs: 58 ======== acc: 90.27694037810537\n",
            "epochs: 59 ======== acc: 90.46777087402565\n",
            "epochs: 60 ======== acc: 90.65412543571806\n",
            "epochs: 61 ======== acc: 90.83620248008356\n",
            "epochs: 62 ======== acc: 91.01418363745606\n",
            "epochs: 63 ======== acc: 91.18823353735047\n",
            "epochs: 64 ======== acc: 91.35850046476229\n",
            "epochs: 65 ======== acc: 91.52511756975058\n",
            "epochs: 66 ======== acc: 91.68820437663318\n",
            "epochs: 67 ======== acc: 91.84786840425578\n",
            "epochs: 68 ======== acc: 92.0042067674322\n",
            "epochs: 69 ======== acc: 92.15730767791149\n",
            "epochs: 70 ======== acc: 92.30725180013386\n",
            "epochs: 71 ======== acc: 92.4541134433969\n",
            "epochs: 72 ======== acc: 92.59796158955757\n",
            "epochs: 73 ======== acc: 92.73886076601192\n",
            "epochs: 74 ======== acc: 92.87687177930017\n",
            "epochs: 75 ======== acc: 93.0120523268696\n",
            "epochs: 76 ======== acc: 93.14445750454854\n",
            "epochs: 77 ======== acc: 93.27414022605726\n",
            "epochs: 78 ======== acc: 93.40115156904521\n",
            "epochs: 79 ======== acc: 93.52554106011245\n",
            "epochs: 80 ======== acc: 93.64735690929204\n",
            "epochs: 81 ======== acc: 93.766646202675\n",
            "epochs: 82 ======== acc: 93.88345506030468\n",
            "epochs: 83 ======== acc: 93.99782876516527\n",
            "epochs: 84 ======== acc: 94.10981186802174\n",
            "epochs: 85 ======== acc: 94.21944827200835\n",
            "epochs: 86 ======== acc: 94.32678130017597\n",
            "epochs: 87 ======== acc: 94.4318537486632\n",
            "epochs: 88 ======== acc: 94.53470792772397\n",
            "epochs: 89 ======== acc: 94.6353856924986\n",
            "epochs: 90 ======== acc: 94.73392846513907\n",
            "epochs: 91 ======== acc: 94.83037724967318\n",
            "epochs: 92 ======== acc: 94.9247726408074\n",
            "epochs: 93 ======== acc: 95.01715482771145\n",
            "epochs: 94 ======== acc: 95.10756359369609\n",
            "epochs: 95 ======== acc: 95.19603831258047\n",
            "epochs: 96 ======== acc: 95.28261794244523\n",
            "epochs: 97 ======== acc: 95.36734101737886\n",
            "epochs: 98 ======== acc: 95.45024563774571\n",
            "epochs: 99 ======== acc: 95.53136945943292\n",
            "epochs: 100 ======== acc: 95.6107496824701\n"
          ]
        }
      ]
    },
    {
      "cell_type": "code",
      "source": [
        "import matplotlib.pyplot as plt1\n",
        "\n",
        "# plotting accuracy\n",
        "plt1.plot(acc)\n",
        "plt1.ylabel('Accuracy')\n",
        "plt1.xlabel(\"Epochs:\")\n",
        "plt1.show()\n",
        "\n",
        "# plotting Loss\n",
        "plt1.plot(losss)\n",
        "plt1.ylabel('Loss')\n",
        "plt1.xlabel(\"Epochs:\")\n",
        "plt1.show()"
      ],
      "metadata": {
        "colab": {
          "base_uri": "https://localhost:8080/",
          "height": 881
        },
        "id": "bKmC4_8s3iaj",
        "outputId": "54e038e4-c5d3-49d3-9257-18bd35ec3906"
      },
      "execution_count": 28,
      "outputs": [
        {
          "output_type": "display_data",
          "data": {
            "text/plain": [
              "<Figure size 640x480 with 1 Axes>"
            ],
            "image/png": "[encoded data removed]"
          },
          "metadata": {}
        },
        {
          "output_type": "display_data",
          "data": {
            "text/plain": [
              "<Figure size 640x480 with 1 Axes>"
            ],
            "image/png": "[encoded data removed]"
          },
          "metadata": {}
        }
      ]
    },
    {
      "cell_type": "code",
      "source": [
        "print(w1, \"\\n\", w2)"
      ],
      "metadata": {
        "colab": {
          "base_uri": "https://localhost:8080/"
        },
        "id": "qVyQUgMB3l-3",
        "outputId": "0afe9279-3158-4dca-86bc-02666e783417"
      },
      "execution_count": 29,
      "outputs": [
        {
          "output_type": "stream",
          "name": "stdout",
          "text": [
            "[[-0.5785071  -0.19192817  0.24778008 -0.75424445 -0.58824609]\n",
            " [-0.33997634  1.06559074  1.551449    0.30231218  0.86791062]\n",
            " [-0.55999557  1.59765727 -0.93873809  0.49303868 -0.46299313]\n",
            " [ 1.76906284 -0.22733663  0.52390138  0.35242366 -0.74526525]\n",
            " [-0.61731071 -0.24857675  1.62145114 -0.54301304  2.02551926]\n",
            " [-0.30830482  0.87817226 -1.0471948   0.53372823 -0.36674599]\n",
            " [ 1.03095443  1.51702226  1.59400691 -0.40794991  0.8470127 ]\n",
            " [-0.28880686  3.17604424 -0.39908662  0.78957088  2.28946226]\n",
            " [ 0.50178485 -0.4072402  -2.15674723  0.30005849 -1.68423131]\n",
            " [ 0.85040487 -1.18709647  0.35864012  0.24648263 -0.65030738]\n",
            " [-0.67441003 -0.31416748  0.79507583 -0.61867673 -0.31436528]\n",
            " [ 0.75333782  1.27996325  0.27722645  0.5977889   1.31569011]\n",
            " [ 1.23572736  0.13624158 -0.70584933 -0.28354315 -0.24196383]\n",
            " [-0.31782128  0.33300391  0.15608973  0.18144704  1.38748858]\n",
            " [-0.64022855 -0.19737801 -0.17339851 -1.98695491  0.98939014]\n",
            " [ 0.06905511 -0.21948187  0.10496196 -1.09018985  0.40701896]\n",
            " [-0.15555612  1.20883978 -0.63732034 -0.61147804  0.12402938]\n",
            " [ 1.90148393  0.33292567 -0.91883754 -0.32803714 -1.02809821]\n",
            " [ 1.94271583  1.56856746 -2.05420601 -1.16626304  0.95186853]\n",
            " [ 0.44082144  0.9051199  -0.6363368   0.34679293  1.60089429]\n",
            " [-1.66205887 -0.57805604 -1.99540857 -1.18874517  0.74038165]\n",
            " [ 0.54635926 -2.38029644  1.26725025  0.1367834  -0.39952735]\n",
            " [ 0.0412215   0.82865093 -0.99433952 -1.5330243   0.86870465]\n",
            " [ 1.49004258 -0.49240782  0.7141447  -2.40455882 -1.32061934]\n",
            " [-0.83737636  0.35692399  0.17491913  0.45405912  0.87145907]\n",
            " [-1.9444445   0.05399722 -0.03746448  0.75419892  0.27433565]\n",
            " [-0.88339862  0.82583325 -0.08925365  0.1440363   0.86021086]\n",
            " [-0.35794056 -2.07348312  1.43237184 -1.16837468 -1.92144621]\n",
            " [-0.33620284 -0.21480391  0.82624318  1.07916451 -1.25487781]\n",
            " [-1.1119762  -1.86466538 -0.25393047 -1.15653392  0.5772168 ]] \n",
            " [[ 2.22380756 -1.61576832 -1.71407755]\n",
            " [ 0.37605936  0.69697202 -0.33208403]\n",
            " [-2.3715477   1.37236833  0.87685891]\n",
            " [-0.96006327 -2.37730195  1.88925297]\n",
            " [-0.53794889 -1.1675956  -1.3016949 ]]\n"
          ]
        }
      ]
    },
    {
      "cell_type": "code",
      "source": [
        "predict(x[1], w1, w2)"
      ],
      "metadata": {
        "colab": {
          "base_uri": "https://localhost:8080/",
          "height": 447
        },
        "id": "S1IDQN603sz5",
        "outputId": "1c1b71d4-49aa-42fd-a416-25d6816cf32e"
      },
      "execution_count": 30,
      "outputs": [
        {
          "output_type": "stream",
          "name": "stdout",
          "text": [
            "Image is of letter B.\n"
          ]
        },
        {
          "output_type": "display_data",
          "data": {
            "text/plain": [
              "<Figure size 640x480 with 1 Axes>"
            ],
            "image/png": "[encoded data removed]"
          },
          "metadata": {}
        }
      ]
    },
    {
      "cell_type": "code",
      "source": [],
      "metadata": {
        "id": "F8LCLRzF380B"
      },
      "execution_count": 31,
      "outputs": []
    }
  ]
}