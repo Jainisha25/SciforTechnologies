{
  "nbformat": 4,
  "nbformat_minor": 0,
  "metadata": {
    "colab": {
      "provenance": []
    },
    "kernelspec": {
      "name": "python3",
      "display_name": "Python 3"
    },
    "language_info": {
      "name": "python"
    }
  },
  "cells": [
    {
      "cell_type": "code",
      "execution_count": 1,
      "metadata": {
        "colab": {
          "base_uri": "https://localhost:8080/"
        },
        "id": "cM_s0Q6jsIwA",
        "outputId": "8de823dc-701b-46c1-b496-e71791d52daf"
      },
      "outputs": [
        {
          "output_type": "stream",
          "name": "stdout",
          "text": [
            "Sleeping\n",
            "Eating\n",
            "Barking\n"
          ]
        }
      ],
      "source": [
        "#Hybrid Inheritance:\n",
        "class Animal:\n",
        "  def eat(self):\n",
        "    print(\"Eating\")\n",
        "\n",
        "class Mammal(Animal):\n",
        "  def sleep(self):\n",
        "    print(\"Sleeping\")\n",
        "\n",
        "class Dog(Mammal, Animal):\n",
        "  def bark(self):\n",
        "    print(\"Barking\")\n",
        "\n",
        "obj = Dog()\n",
        "obj.sleep()\n",
        "obj.eat()\n",
        "obj.bark()"
      ]
    },
    {
      "cell_type": "code",
      "source": [],
      "metadata": {
        "id": "-3Y7IDKZsKlW"
      },
      "execution_count": null,
      "outputs": []
    }
  ]
}