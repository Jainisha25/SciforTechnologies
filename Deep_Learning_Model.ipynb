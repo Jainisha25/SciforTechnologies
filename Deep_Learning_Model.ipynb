{
  "nbformat": 4,
  "nbformat_minor": 0,
  "metadata": {
    "colab": {
      "provenance": []
    },
    "kernelspec": {
      "name": "python3",
      "display_name": "Python 3"
    },
    "language_info": {
      "name": "python"
    }
  },
  "cells": [
    {
      "cell_type": "code",
      "execution_count": 1,
      "metadata": {
        "id": "SFUngXy9MPsA"
      },
      "outputs": [],
      "source": [
        "#Importing Libraries:\n",
        "import tensorflow as tf\n",
        "from tensorflow.keras import layers, models"
      ]
    },
    {
      "cell_type": "code",
      "source": [
        "#Loading and preprocessing MNIST dataset:\n",
        "mnist = tf.keras.datasets.mnist\n",
        "(train_images, train_labels), (test_images, test_labels) = mnist.load_data()\n",
        "train_images, test_images = train_images / 255.0 , test_images / 255.0"
      ],
      "metadata": {
        "colab": {
          "base_uri": "https://localhost:8080/"
        },
        "id": "KzoiNOXRNTG-",
        "outputId": "c085f770-2d33-4ee5-bc92-28178b0fe77a"
      },
      "execution_count": 2,
      "outputs": [
        {
          "output_type": "stream",
          "name": "stdout",
          "text": [
            "Downloading data from https://storage.googleapis.com/tensorflow/tf-keras-datasets/mnist.npz\n",
            "11490434/11490434 [==============================] - 0s 0us/step\n"
          ]
        }
      ]
    },
    {
      "cell_type": "code",
      "source": [
        "#Reshape Images:\n",
        "train_images_cnn = train_images.reshape(train_images.shape[0], 28, 28,1)\n",
        "test_images_cnn = test_images.reshape(test_images.shape[0], 28, 28, 1)"
      ],
      "metadata": {
        "id": "_Q-zvqt6Nq73"
      },
      "execution_count": 3,
      "outputs": []
    },
    {
      "cell_type": "markdown",
      "source": [
        "##ANN Model:\n",
        "\n",
        "ANNs are a class of machine learning models inspired by the structure and function of the human brain.\n",
        "\n",
        "They consist of interconnected modes organized into layers: input layer, hidden layers and output layer.\n",
        "\n",
        "Each node  in a layer is connected to every node in the subsequent layer, forming a fully connected network.\n",
        "\n",
        "Anns can be used for a wide range of tasks including regression, classification, and reinforcement learning on structured data.\n",
        "\n",
        "They require hand-engineered feature extraction or feature engineering to extract relevant information from raw data."
      ],
      "metadata": {
        "id": "tXnTwCoYS8Ez"
      }
    },
    {
      "cell_type": "code",
      "source": [
        "#Define ANN Model:\n",
        "ann_model = models.Sequential([\n",
        "    layers.Flatten(input_shape=(28,28)),\n",
        "    layers.Dense(128, activation='relu'),\n",
        "    layers.Dense(10,activation='softmax')\n",
        "])"
      ],
      "metadata": {
        "id": "V_T0eWZ0N71f"
      },
      "execution_count": 4,
      "outputs": []
    },
    {
      "cell_type": "code",
      "source": [
        "#Compile ANN Model:\n",
        "ann_model.compile(optimizer='adam',\n",
        "                  loss ='sparse_categorical_crossentropy',\n",
        "                  metrics=['accuracy'])"
      ],
      "metadata": {
        "id": "LrxIonQXOQUf"
      },
      "execution_count": 5,
      "outputs": []
    },
    {
      "cell_type": "code",
      "source": [
        "#Train ANN Model:\n",
        "ann_model.fit(train_images, train_labels, epochs = 5, batch_size = 64, validation_data = (test_images, test_labels))"
      ],
      "metadata": {
        "colab": {
          "base_uri": "https://localhost:8080/"
        },
        "id": "qOwrpepTObWS",
        "outputId": "b948dc52-8d3d-4bfb-d07c-0c6ff2c22e6a"
      },
      "execution_count": 6,
      "outputs": [
        {
          "output_type": "stream",
          "name": "stdout",
          "text": [
            "Epoch 1/5\n",
            "938/938 [==============================] - 6s 5ms/step - loss: 0.2927 - accuracy: 0.9183 - val_loss: 0.1636 - val_accuracy: 0.9515\n",
            "Epoch 2/5\n",
            "938/938 [==============================] - 4s 4ms/step - loss: 0.1345 - accuracy: 0.9607 - val_loss: 0.1115 - val_accuracy: 0.9668\n",
            "Epoch 3/5\n",
            "938/938 [==============================] - 6s 6ms/step - loss: 0.0931 - accuracy: 0.9729 - val_loss: 0.0928 - val_accuracy: 0.9721\n",
            "Epoch 4/5\n",
            "938/938 [==============================] - 4s 5ms/step - loss: 0.0706 - accuracy: 0.9797 - val_loss: 0.0795 - val_accuracy: 0.9762\n",
            "Epoch 5/5\n",
            "938/938 [==============================] - 5s 5ms/step - loss: 0.0552 - accuracy: 0.9840 - val_loss: 0.0764 - val_accuracy: 0.9768\n"
          ]
        },
        {
          "output_type": "execute_result",
          "data": {
            "text/plain": [
              "<keras.src.callbacks.History at 0x7babd16e5ae0>"
            ]
          },
          "metadata": {},
          "execution_count": 6
        }
      ]
    },
    {
      "cell_type": "markdown",
      "source": [
        "##CNN Model:\n",
        "\n",
        "CNNs are a type of deep neural network specifically desgined for processing grid-like data, such as images.\n",
        "\n",
        "They consist of multiple layers including convolutional layers, pooling layers, and fully connected layers.\n",
        "\n",
        "Convolutional layers apply filyters to input data, allowing the network to automatically learn hierarachical representations of features.\n",
        "\n",
        "Pooling layers downsample the feature maps generated by convolutional layers, reducing the dimensionality of the data.\n",
        "\n",
        "CNNs have been highly successful in tasks like image recognition, object detection, image segementation, and other computer vision tasks.\n"
      ],
      "metadata": {
        "id": "hrG1Iy26R6pT"
      }
    },
    {
      "cell_type": "code",
      "source": [
        "#Define CNN Model:\n",
        "cnn_model = models.Sequential([\n",
        "    layers.Conv2D(32, (3,3), activation = 'relu', input_shape=(28,28, 1)),\n",
        "    layers.MaxPooling2D((2,2)),\n",
        "    layers.Conv2D(64, (3,3), activation = 'relu'),\n",
        "    layers.MaxPooling2D((2,2)),\n",
        "    layers.Conv2D(64, (3,3), activation= 'relu'),\n",
        "    layers.Flatten(),\n",
        "    layers.Dense(64, activation='relu'),\n",
        "    layers.Dense(10, activation='softmax')\n",
        "])"
      ],
      "metadata": {
        "id": "AaNkJorhOnqE"
      },
      "execution_count": 8,
      "outputs": []
    },
    {
      "cell_type": "code",
      "source": [
        "#Compile CNN Model:\n",
        "cnn_model.compile(optimizer='adam',\n",
        "                  loss='sparse_categorical_crossentropy',\n",
        "                  metrics=['accuracy'])"
      ],
      "metadata": {
        "id": "Q86y7CjvPRUB"
      },
      "execution_count": 9,
      "outputs": []
    },
    {
      "cell_type": "code",
      "source": [
        "#Train CNN Model:\n",
        "cnn_model.fit(train_images_cnn, train_labels, epochs=5, batch_size= 64, validation_data=(test_images_cnn, test_labels))"
      ],
      "metadata": {
        "colab": {
          "base_uri": "https://localhost:8080/"
        },
        "id": "NRLlpnqkPiSo",
        "outputId": "9fcf2408-1881-47f2-8b28-bd332194e161"
      },
      "execution_count": 10,
      "outputs": [
        {
          "output_type": "stream",
          "name": "stdout",
          "text": [
            "Epoch 1/5\n",
            "938/938 [==============================] - 54s 56ms/step - loss: 0.1832 - accuracy: 0.9442 - val_loss: 0.0566 - val_accuracy: 0.9819\n",
            "Epoch 2/5\n",
            "938/938 [==============================] - 51s 54ms/step - loss: 0.0522 - accuracy: 0.9840 - val_loss: 0.0386 - val_accuracy: 0.9868\n",
            "Epoch 3/5\n",
            "938/938 [==============================] - 50s 53ms/step - loss: 0.0391 - accuracy: 0.9873 - val_loss: 0.0495 - val_accuracy: 0.9840\n",
            "Epoch 4/5\n",
            "938/938 [==============================] - 49s 52ms/step - loss: 0.0297 - accuracy: 0.9903 - val_loss: 0.0303 - val_accuracy: 0.9907\n",
            "Epoch 5/5\n",
            "938/938 [==============================] - 46s 49ms/step - loss: 0.0229 - accuracy: 0.9921 - val_loss: 0.0313 - val_accuracy: 0.9898\n"
          ]
        },
        {
          "output_type": "execute_result",
          "data": {
            "text/plain": [
              "<keras.src.callbacks.History at 0x7babd07a6c20>"
            ]
          },
          "metadata": {},
          "execution_count": 10
        }
      ]
    },
    {
      "cell_type": "code",
      "source": [
        "#Evaluate ANN Model:\n",
        "ann_test_loss, ann_test_acc = ann_model.evaluate(test_images, test_labels)\n",
        "print(f'ANN Test Accuracy: {ann_test_acc}')"
      ],
      "metadata": {
        "colab": {
          "base_uri": "https://localhost:8080/"
        },
        "id": "3Ii6kwSmPvxz",
        "outputId": "bde437dd-d660-4d76-8299-d05b5551451d"
      },
      "execution_count": 11,
      "outputs": [
        {
          "output_type": "stream",
          "name": "stdout",
          "text": [
            "313/313 [==============================] - 1s 2ms/step - loss: 0.0764 - accuracy: 0.9768\n",
            "ANN Test Accuracy: 0.9768000245094299\n"
          ]
        }
      ]
    },
    {
      "cell_type": "code",
      "source": [
        "#Evaluate CNN Model:\n",
        "cnn_test_loss, cnn_test_acc = cnn_model.evaluate(test_images_cnn, test_labels)\n",
        "print(f'CNN Test Accuracy: {cnn_test_acc}')"
      ],
      "metadata": {
        "colab": {
          "base_uri": "https://localhost:8080/"
        },
        "id": "SYyy9GUQP-Wz",
        "outputId": "1aeaee25-c30b-479a-a147-8486660afe3b"
      },
      "execution_count": 13,
      "outputs": [
        {
          "output_type": "stream",
          "name": "stdout",
          "text": [
            "313/313 [==============================] - 3s 9ms/step - loss: 0.0313 - accuracy: 0.9898\n",
            "CNN Test Accuracy: 0.989799976348877\n"
          ]
        }
      ]
    },
    {
      "cell_type": "code",
      "source": [],
      "metadata": {
        "id": "icj5IFmnQI2N"
      },
      "execution_count": null,
      "outputs": []
    }
  ]
}