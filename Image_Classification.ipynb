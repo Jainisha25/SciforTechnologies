{
  "nbformat": 4,
  "nbformat_minor": 0,
  "metadata": {
    "colab": {
      "provenance": []
    },
    "kernelspec": {
      "name": "python3",
      "display_name": "Python 3"
    },
    "language_info": {
      "name": "python"
    }
  },
  "cells": [
    {
      "cell_type": "code",
      "execution_count": 1,
      "metadata": {
        "id": "11NyFslg5JkZ"
      },
      "outputs": [],
      "source": [
        "#Importing Libraries:\n",
        "import tensorflow as tf\n",
        "from tensorflow.keras.datasets import mnist\n",
        "from tensorflow.keras.models import Sequential\n",
        "from tensorflow.keras.layers import Conv2D, MaxPooling2D, Flatten, Dense\n",
        "from tensorflow.keras.utils import to_categorical"
      ]
    },
    {
      "cell_type": "code",
      "source": [
        "#Load Dataset:\n",
        "(X_train, Y_train), (X_test, Y_test) = mnist.load_data()\n",
        "\n",
        "X_train = X_train.reshape(X_train.shape[0], 28,28,1).astype('float32')/255\n",
        "X_test = X_test.reshape(X_test.shape[0], 28, 28,1).astype('float32')/255\n",
        "\n",
        "Y_train = to_categorical(Y_train, 10)\n",
        "Y_test = to_categorical(Y_test, 10)"
      ],
      "metadata": {
        "colab": {
          "base_uri": "https://localhost:8080/"
        },
        "id": "geAJsZNr6Rcc",
        "outputId": "f82193cd-1ac6-4032-b401-f30231dd7d5c"
      },
      "execution_count": 2,
      "outputs": [
        {
          "output_type": "stream",
          "name": "stdout",
          "text": [
            "Downloading data from https://storage.googleapis.com/tensorflow/tf-keras-datasets/mnist.npz\n",
            "11490434/11490434 [==============================] - 0s 0us/step\n"
          ]
        }
      ]
    },
    {
      "cell_type": "code",
      "source": [
        "#Build the Model:\n",
        "model = Sequential([\n",
        "    Conv2D(32, (3,3), activation='relu', input_shape=(28,28,1)),\n",
        "    MaxPooling2D((2,2)),\n",
        "    Conv2D(64, (3,3), activation='relu'),\n",
        "    MaxPooling2D((2,2)),\n",
        "    Conv2D(64, (3,3), activation='relu'),\n",
        "    Flatten(),\n",
        "    Dense(64, activation='relu'),\n",
        "    Dense(10, activation='softmax')\n",
        "])"
      ],
      "metadata": {
        "id": "PtIyf5iD6132"
      },
      "execution_count": 3,
      "outputs": []
    },
    {
      "cell_type": "code",
      "source": [
        "#Compile the Model:\n",
        "model.compile(optimizer = 'adam',\n",
        "              loss='categorical_crossentropy',\n",
        "              metrics = ['accuracy'])"
      ],
      "metadata": {
        "id": "OuAz1T_v7gQm"
      },
      "execution_count": 4,
      "outputs": []
    },
    {
      "cell_type": "code",
      "source": [
        "#Train the Model:\n",
        "model.fit(X_train, Y_train, epochs=5, batch_size=64, validation_split= 0.1)"
      ],
      "metadata": {
        "colab": {
          "base_uri": "https://localhost:8080/"
        },
        "id": "EZgMsium7r6c",
        "outputId": "d7df8fa3-62ae-47b6-d6fc-d7a8671d5198"
      },
      "execution_count": 5,
      "outputs": [
        {
          "output_type": "stream",
          "name": "stdout",
          "text": [
            "Epoch 1/5\n",
            "844/844 [==============================] - 28s 32ms/step - loss: 0.2068 - accuracy: 0.9375 - val_loss: 0.0697 - val_accuracy: 0.9807\n",
            "Epoch 2/5\n",
            "844/844 [==============================] - 25s 30ms/step - loss: 0.0560 - accuracy: 0.9832 - val_loss: 0.0455 - val_accuracy: 0.9868\n",
            "Epoch 3/5\n",
            "844/844 [==============================] - 29s 35ms/step - loss: 0.0404 - accuracy: 0.9869 - val_loss: 0.0410 - val_accuracy: 0.9898\n",
            "Epoch 4/5\n",
            "844/844 [==============================] - 42s 50ms/step - loss: 0.0308 - accuracy: 0.9901 - val_loss: 0.0382 - val_accuracy: 0.9892\n",
            "Epoch 5/5\n",
            "844/844 [==============================] - 37s 43ms/step - loss: 0.0248 - accuracy: 0.9921 - val_loss: 0.0387 - val_accuracy: 0.9913\n"
          ]
        },
        {
          "output_type": "execute_result",
          "data": {
            "text/plain": [
              "<keras.src.callbacks.History at 0x7eabe68c2500>"
            ]
          },
          "metadata": {},
          "execution_count": 5
        }
      ]
    },
    {
      "cell_type": "code",
      "source": [
        "#Evaluate the model:\n",
        "test_loss, test_acc = model.evaluate(X_test, Y_test)\n",
        "print(\"Test Accuracy:\", test_acc)"
      ],
      "metadata": {
        "colab": {
          "base_uri": "https://localhost:8080/"
        },
        "id": "NNFcmRRa732z",
        "outputId": "1350186e-f3be-4152-c231-67ca4249d696"
      },
      "execution_count": 6,
      "outputs": [
        {
          "output_type": "stream",
          "name": "stdout",
          "text": [
            "313/313 [==============================] - 2s 6ms/step - loss: 0.0325 - accuracy: 0.9906\n",
            "Test Accuracy: 0.9905999898910522\n"
          ]
        }
      ]
    },
    {
      "cell_type": "code",
      "source": [],
      "metadata": {
        "id": "7C0GnHkQ8d8P"
      },
      "execution_count": 8,
      "outputs": []
    }
  ]
}