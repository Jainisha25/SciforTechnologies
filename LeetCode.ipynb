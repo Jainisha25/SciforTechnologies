{
  "nbformat": 4,
  "nbformat_minor": 0,
  "metadata": {
    "colab": {
      "provenance": []
    },
    "kernelspec": {
      "name": "python3",
      "display_name": "Python 3"
    },
    "language_info": {
      "name": "python"
    }
  },
  "cells": [
    {
      "cell_type": "code",
      "source": [
        "from typing import List"
      ],
      "metadata": {
        "id": "Ig22tbDM6bCe"
      },
      "execution_count": 13,
      "outputs": []
    },
    {
      "cell_type": "markdown",
      "source": [
        "##Merge Strings Alternately:"
      ],
      "metadata": {
        "id": "j7ZkBVJRmu2y"
      }
    },
    {
      "cell_type": "code",
      "execution_count": null,
      "metadata": {
        "id": "augHnaglY2rk",
        "colab": {
          "base_uri": "https://localhost:8080/"
        },
        "outputId": "cf59582b-bdb8-470a-9271-c46416d769cc"
      },
      "outputs": [
        {
          "output_type": "stream",
          "name": "stdout",
          "text": [
            "adbecf\n"
          ]
        }
      ],
      "source": [
        "class Solution(object):\n",
        "    def mergeAlternately(self, word1, word2):\n",
        "        \"\"\"\n",
        "        :type word1: str\n",
        "        :type word2: str\n",
        "        :rtype: str\n",
        "        \"\"\"\n",
        "        m = len(word1)\n",
        "        n = len(word2)\n",
        "        i=0\n",
        "        j=0\n",
        "        result = []\n",
        "\n",
        "        while i < m or j < n:\n",
        "            if i < m :\n",
        "                result += word1[i]\n",
        "                i += 1\n",
        "            if j < n:\n",
        "                result += word2[j]\n",
        "                j += 1\n",
        "        return \"\".join(result)\n",
        "solution_instance = Solution()\n",
        "word1 = \"abc\"\n",
        "word2 = \"def\"\n",
        "output = solution_instance.mergeAlternately(word1, word2)\n",
        "print(output)"
      ]
    },
    {
      "cell_type": "markdown",
      "source": [
        "##Find the Difference:"
      ],
      "metadata": {
        "id": "pX2oyeS_nysy"
      }
    },
    {
      "cell_type": "code",
      "source": [
        "class Solution:\n",
        "    def findTheDifference(self, s: str, t: str) -> str:\n",
        "        s = sorted(s)\n",
        "        t = sorted(t)\n",
        "        i = 0\n",
        "        j = 0\n",
        "        while i< len(s) and j < len(t):\n",
        "            if s[i]!= t[j]:\n",
        "                return t[j]\n",
        "            i += 1\n",
        "            j += 1\n",
        "\n",
        "        return t[-1]\n",
        "\n",
        "solution_instance = Solution()\n",
        "s = \"abcd\"\n",
        "t = \"abcde\"\n",
        "output = solution_instance.findTheDifference(s,t)\n",
        "print(output)"
      ],
      "metadata": {
        "id": "fS2hHff-ZA17",
        "colab": {
          "base_uri": "https://localhost:8080/"
        },
        "outputId": "746f0d0f-8afc-411d-effb-6d2dcfa4bf75"
      },
      "execution_count": null,
      "outputs": [
        {
          "output_type": "stream",
          "name": "stdout",
          "text": [
            "e\n"
          ]
        }
      ]
    },
    {
      "cell_type": "markdown",
      "source": [
        "##Find the index of the First Occurence in a String:"
      ],
      "metadata": {
        "id": "JqzE070evMn3"
      }
    },
    {
      "cell_type": "code",
      "source": [
        "class Solution:\n",
        "    def strStr(self, haystack: str, needle: str) -> int:\n",
        "        a, b = len(haystack), len(needle)\n",
        "\n",
        "        for i in range(a - b + 1):\n",
        "            substring = haystack[i:i + b]\n",
        "            print(f\"Checking substring at index {i}: {substring}\")\n",
        "\n",
        "            if substring == needle:\n",
        "                print(f\"Found match at index {i}\")\n",
        "                return i\n",
        "\n",
        "        print(\"No match found\")\n",
        "        return -1\n",
        "\n",
        "# Example usage:\n",
        "solution = Solution()\n",
        "haystack = \"hello\"\n",
        "needle = \"ll\"\n",
        "result = solution.strStr(haystack, needle)\n",
        "print(f\"Result: {result}\")"
      ],
      "metadata": {
        "id": "rj1hi1owoBAF",
        "colab": {
          "base_uri": "https://localhost:8080/"
        },
        "outputId": "59120b9f-8964-4b36-f92d-9172cbd50a82"
      },
      "execution_count": 10,
      "outputs": [
        {
          "output_type": "stream",
          "name": "stdout",
          "text": [
            "Checking substring at index 0: he\n",
            "Checking substring at index 1: el\n",
            "Checking substring at index 2: ll\n",
            "Found match at index 2\n",
            "Result: 2\n"
          ]
        }
      ]
    },
    {
      "cell_type": "markdown",
      "source": [
        "##Vaild Anagram:"
      ],
      "metadata": {
        "id": "RowAI56fvVdd"
      }
    },
    {
      "cell_type": "code",
      "source": [
        "class Solution:\n",
        "    def isAnagram(self, s: str, t: str) -> bool:\n",
        "        if len(s) != len(t):\n",
        "            print(\"Lengths are different, not anagrams.\")\n",
        "            return False\n",
        "\n",
        "        counter = {}\n",
        "\n",
        "        for char in s:\n",
        "            counter[char] = counter.get(char, 0) + 1\n",
        "\n",
        "        print(f\"Character count for {s}: {counter}\")\n",
        "\n",
        "        for char in t:\n",
        "            if char not in counter or counter[char] == 0:\n",
        "                print(f\"{char} not in {s} or count is 0. Not an anagram.\")\n",
        "                return False\n",
        "            counter[char] -= 1\n",
        "            print(f\"Decremented count for {char}. New count: {counter[char]}\")\n",
        "\n",
        "        print(\"Both strings are anagrams.\")\n",
        "        return True\n",
        "\n",
        "# Example usage:\n",
        "solution = Solution()\n",
        "s = \"anagram\"\n",
        "t = \"nagaram\"\n",
        "result = solution.isAnagram(s, t)\n",
        "print(f\"Result: {result}\")"
      ],
      "metadata": {
        "colab": {
          "base_uri": "https://localhost:8080/"
        },
        "id": "MtAKghBhvTj3",
        "outputId": "4f85534c-ea2b-4e7a-b8f3-b0c2f108cfbe"
      },
      "execution_count": 11,
      "outputs": [
        {
          "output_type": "stream",
          "name": "stdout",
          "text": [
            "Character count for anagram: {'a': 3, 'n': 1, 'g': 1, 'r': 1, 'm': 1}\n",
            "Decremented count for n. New count: 0\n",
            "Decremented count for a. New count: 2\n",
            "Decremented count for g. New count: 0\n",
            "Decremented count for a. New count: 1\n",
            "Decremented count for r. New count: 0\n",
            "Decremented count for a. New count: 0\n",
            "Decremented count for m. New count: 0\n",
            "Both strings are anagrams.\n",
            "Result: True\n"
          ]
        }
      ]
    },
    {
      "cell_type": "markdown",
      "source": [
        "##Repeated Substring Pattern:"
      ],
      "metadata": {
        "id": "Fe10fMF2vaab"
      }
    },
    {
      "cell_type": "code",
      "source": [
        "class Solution:\n",
        "    def repeatedSubstringPattern(self, s: str) -> bool:\n",
        "        n = len(s)\n",
        "        for i in range(1, n // 2 + 1):\n",
        "            if n % i == 0:\n",
        "                substring = s[:i]\n",
        "                print(f\"Checking substring of length {i}: {substring}\")\n",
        "\n",
        "                if substring * (n // i) == s:\n",
        "                    print(f\"Found repeated substring: {substring}\")\n",
        "                    return True\n",
        "\n",
        "        print(\"No repeated substring pattern found.\")\n",
        "        return False\n",
        "\n",
        "# Example usage:\n",
        "solution = Solution()\n",
        "s = \"abab\"\n",
        "result = solution.repeatedSubstringPattern(s)\n",
        "print(f\"Result: {result}\")"
      ],
      "metadata": {
        "colab": {
          "base_uri": "https://localhost:8080/"
        },
        "id": "HJ1wDfTqvYey",
        "outputId": "adcae72e-7d91-4353-86aa-efa665414d9a"
      },
      "execution_count": 12,
      "outputs": [
        {
          "output_type": "stream",
          "name": "stdout",
          "text": [
            "Checking substring of length 1: a\n",
            "Checking substring of length 2: ab\n",
            "Found repeated substring: ab\n",
            "Result: True\n"
          ]
        }
      ]
    },
    {
      "cell_type": "markdown",
      "source": [
        "##Moves Zero:"
      ],
      "metadata": {
        "id": "h5D7tu3dvg6q"
      }
    },
    {
      "cell_type": "code",
      "source": [
        "class Solution:\n",
        "    def moveZeroes(self, nums: List[int]) -> None:\n",
        "        \"\"\"\n",
        "        Do not return anything, modify nums in-place instead.\n",
        "        \"\"\"\n",
        "        slow = 0\n",
        "        for fast in range(len(nums)):\n",
        "            if nums[fast] != 0 and nums[slow] == 0:\n",
        "                nums[slow], nums[fast] = nums[fast], nums[slow]\n",
        "                print(f\"Swapped {nums[slow]} and {nums[fast]}: {nums}\")\n",
        "            if nums[slow] != 0:\n",
        "                slow += 1\n",
        "                print(f\"Moved slow pointer to {slow}: {nums}\")\n",
        "\n",
        "# Example usage:\n",
        "solution = Solution()\n",
        "nums = [0, 1, 0, 3, 12]\n",
        "print(f\"Original nums: {nums}\")\n",
        "solution.moveZeroes(nums)\n",
        "print(f\"Modified nums: {nums}\")"
      ],
      "metadata": {
        "colab": {
          "base_uri": "https://localhost:8080/"
        },
        "id": "yk-4mLKOvfab",
        "outputId": "d2539fd6-8b66-42fd-fe1c-07108376a5f3"
      },
      "execution_count": 14,
      "outputs": [
        {
          "output_type": "stream",
          "name": "stdout",
          "text": [
            "Original nums: [0, 1, 0, 3, 12]\n",
            "Swapped 1 and 0: [1, 0, 0, 3, 12]\n",
            "Moved slow pointer to 1: [1, 0, 0, 3, 12]\n",
            "Swapped 3 and 0: [1, 3, 0, 0, 12]\n",
            "Moved slow pointer to 2: [1, 3, 0, 0, 12]\n",
            "Swapped 12 and 0: [1, 3, 12, 0, 0]\n",
            "Moved slow pointer to 3: [1, 3, 12, 0, 0]\n",
            "Modified nums: [1, 3, 12, 0, 0]\n"
          ]
        }
      ]
    },
    {
      "cell_type": "markdown",
      "source": [
        "##Plus One:"
      ],
      "metadata": {
        "id": "c1c0va8Bvm2H"
      }
    },
    {
      "cell_type": "code",
      "source": [
        "class Solution:\n",
        "    def plusOne(self, digits: List[int]) -> List[int]:\n",
        "        for i in range(len(digits)-1, -1, -1):\n",
        "            if digits[i] == 9:\n",
        "                digits[i] = 0\n",
        "                print(f\"Updated digit at index {i} to 0: {digits}\")\n",
        "            else:\n",
        "                digits[i] = digits[i] + 1\n",
        "                print(f\"Added 1 to digit at index {i}: {digits}\")\n",
        "                return digits\n",
        "\n",
        "        print(\"Adding 1 at the beginning of the list.\")\n",
        "        return [1] + digits\n",
        "\n",
        "# Example usage:\n",
        "solution = Solution()\n",
        "digits = [9, 9, 9]\n",
        "print(f\"Original digits: {digits}\")\n",
        "result = solution.plusOne(digits)\n",
        "print(f\"Result: {result}\")"
      ],
      "metadata": {
        "colab": {
          "base_uri": "https://localhost:8080/"
        },
        "id": "yINovX9Wvjv9",
        "outputId": "103f23c0-9f7f-4ce5-a237-9b083715a36c"
      },
      "execution_count": 15,
      "outputs": [
        {
          "output_type": "stream",
          "name": "stdout",
          "text": [
            "Original digits: [9, 9, 9]\n",
            "Updated digit at index 2 to 0: [9, 9, 0]\n",
            "Updated digit at index 1 to 0: [9, 0, 0]\n",
            "Updated digit at index 0 to 0: [0, 0, 0]\n",
            "Adding 1 at the beginning of the list.\n",
            "Result: [1, 0, 0, 0]\n"
          ]
        }
      ]
    },
    {
      "cell_type": "markdown",
      "source": [
        "##Sign of the Product of an Array:"
      ],
      "metadata": {
        "id": "6FdjdPCmvvXl"
      }
    },
    {
      "cell_type": "code",
      "source": [
        "class Solution:\n",
        "    def arraySign(self, nums: List[int]) -> int:\n",
        "        count = 0\n",
        "        for i in nums:\n",
        "            if i == 0:\n",
        "                print(\"Encountered 0, returning 0.\")\n",
        "                return 0\n",
        "            elif i < 1:\n",
        "                count += 1\n",
        "                print(f\"Incremented count to {count} for negative value {i}\")\n",
        "\n",
        "        if count & 1:\n",
        "            print(\"Count is odd, returning -1.\")\n",
        "            return -1\n",
        "        else:\n",
        "            print(\"Count is even, returning 1.\")\n",
        "            return 1\n",
        "\n",
        "# Example usage:\n",
        "solution = Solution()\n",
        "nums = [1, -2, 3, -4, 5]\n",
        "print(f\"Original nums: {nums}\")\n",
        "result = solution.arraySign(nums)\n",
        "print(f\"Result: {result}\")"
      ],
      "metadata": {
        "colab": {
          "base_uri": "https://localhost:8080/"
        },
        "id": "G0etrAVpvpU6",
        "outputId": "b26c3deb-c249-49af-dc52-1d1a56ea8c2f"
      },
      "execution_count": 16,
      "outputs": [
        {
          "output_type": "stream",
          "name": "stdout",
          "text": [
            "Original nums: [1, -2, 3, -4, 5]\n",
            "Incremented count to 1 for negative value -2\n",
            "Incremented count to 2 for negative value -4\n",
            "Count is even, returning 1.\n",
            "Result: 1\n"
          ]
        }
      ]
    },
    {
      "cell_type": "markdown",
      "source": [
        "##Can Make Arithematic Progression From Sequence:"
      ],
      "metadata": {
        "id": "xis_P8Izv6Vi"
      }
    },
    {
      "cell_type": "code",
      "source": [
        "class Solution:\n",
        "    def canMakeArithmeticProgression(self, arr: List[int]) -> bool:\n",
        "        arr.sort()\n",
        "        print(f\"Sorted array: {arr}\")\n",
        "\n",
        "        diff = arr[1] - arr[0]\n",
        "        print(f\"Calculated difference: {diff}\")\n",
        "\n",
        "        for i in range(1, len(arr)):\n",
        "            if arr[i] - arr[i-1] != diff:\n",
        "                print(f\"Non-matching difference found at index {i}: {arr[i]} - {arr[i-1]} != {diff}\")\n",
        "                return False\n",
        "\n",
        "        print(\"All differences match. Returning True.\")\n",
        "        return True\n",
        "\n",
        "# Example usage:\n",
        "solution = Solution()\n",
        "arr = [1, 5, 3, 7, 9]\n",
        "print(f\"Original array: {arr}\")\n",
        "result = solution.canMakeArithmeticProgression(arr)\n",
        "print(f\"Result: {result}\")"
      ],
      "metadata": {
        "colab": {
          "base_uri": "https://localhost:8080/"
        },
        "id": "AhUrZM2YvzRA",
        "outputId": "ca73cf86-d08c-41b4-9154-b60623db0a60"
      },
      "execution_count": 17,
      "outputs": [
        {
          "output_type": "stream",
          "name": "stdout",
          "text": [
            "Original array: [1, 5, 3, 7, 9]\n",
            "Sorted array: [1, 3, 5, 7, 9]\n",
            "Calculated difference: 2\n",
            "All differences match. Returning True.\n",
            "Result: True\n"
          ]
        }
      ]
    },
    {
      "cell_type": "markdown",
      "source": [
        "##Monotonic Array:"
      ],
      "metadata": {
        "id": "53p53M-EwDTG"
      }
    },
    {
      "cell_type": "code",
      "source": [
        "class Solution:\n",
        "    def isMonotonic(self, nums: List[int]) -> bool:\n",
        "        o = False\n",
        "        k = []\n",
        "        for i in nums:\n",
        "            k.append(i)\n",
        "        k.sort()\n",
        "\n",
        "        print(f\"Original nums: {nums}\")\n",
        "        print(f\"Sorted k: {k}\")\n",
        "\n",
        "        if k[0] == nums[-1]:\n",
        "            for i in range(len(nums)-1):\n",
        "                print(\"Checking increasing monotonicity:\")\n",
        "                print(nums[i])\n",
        "                if nums[i] >= nums[i+1]:\n",
        "                    o = True\n",
        "                else:\n",
        "                    o = False\n",
        "                    break\n",
        "        else:\n",
        "            for i in range(len(nums)-1):\n",
        "                print(\"Checking decreasing monotonicity:\")\n",
        "                print(nums[i])\n",
        "                if nums[i] <= nums[i+1]:\n",
        "                    o = True\n",
        "                else:\n",
        "                    o = False\n",
        "                    break\n",
        "\n",
        "        if len(nums) == 1:\n",
        "            o = True\n",
        "\n",
        "        print(f\"Final result: {o}\")\n",
        "        return o\n",
        "\n",
        "# Example usage:\n",
        "solution = Solution()\n",
        "nums = [1, 2, 2, 3]\n",
        "result = solution.isMonotonic(nums)\n",
        "print(f\"Result: {result}\")"
      ],
      "metadata": {
        "colab": {
          "base_uri": "https://localhost:8080/"
        },
        "id": "uZbzVfUYwBJI",
        "outputId": "1418faa0-e651-4495-fb41-8712f3a78956"
      },
      "execution_count": 18,
      "outputs": [
        {
          "output_type": "stream",
          "name": "stdout",
          "text": [
            "Original nums: [1, 2, 2, 3]\n",
            "Sorted k: [1, 2, 2, 3]\n",
            "Checking decreasing monotonicity:\n",
            "1\n",
            "Checking decreasing monotonicity:\n",
            "2\n",
            "Checking decreasing monotonicity:\n",
            "2\n",
            "Final result: True\n",
            "Result: True\n"
          ]
        }
      ]
    },
    {
      "cell_type": "markdown",
      "source": [
        "##Roman to Integer:"
      ],
      "metadata": {
        "id": "AgULkH4owHqi"
      }
    },
    {
      "cell_type": "code",
      "source": [
        "class Solution:\n",
        "    def romanToInt(self, s: str) -> int:\n",
        "        m = {\n",
        "            'I': 1,\n",
        "            'V': 5,\n",
        "            'X': 10,\n",
        "            'L': 50,\n",
        "            'C': 100,\n",
        "            'D': 500,\n",
        "            'M': 1000\n",
        "        }\n",
        "\n",
        "        ans = 0\n",
        "\n",
        "        for i in range(len(s)):\n",
        "            if i < len(s) - 1 and m[s[i]] < m[s[i+1]]:\n",
        "                ans -= m[s[i]]\n",
        "                print(f\"Subtracting {m[s[i]]} for {s[i]} (before {s[i+1]})\")\n",
        "            else:\n",
        "                ans += m[s[i]]\n",
        "                print(f\"Adding {m[s[i]]} for {s[i]}\")\n",
        "\n",
        "        return ans\n",
        "\n",
        "# Example usage:\n",
        "solution = Solution()\n",
        "s = \"MCMXCIV\"\n",
        "result = solution.romanToInt(s)\n",
        "print(f\"Result: {result}\")"
      ],
      "metadata": {
        "colab": {
          "base_uri": "https://localhost:8080/"
        },
        "id": "8Dyo7dHCwF23",
        "outputId": "c3a83c63-ea07-4667-d831-c715ecb167a6"
      },
      "execution_count": 19,
      "outputs": [
        {
          "output_type": "stream",
          "name": "stdout",
          "text": [
            "Adding 1000 for M\n",
            "Subtracting 100 for C (before M)\n",
            "Adding 1000 for M\n",
            "Subtracting 10 for X (before C)\n",
            "Adding 100 for C\n",
            "Subtracting 1 for I (before V)\n",
            "Adding 5 for V\n",
            "Result: 1994\n"
          ]
        }
      ]
    },
    {
      "cell_type": "code",
      "source": [],
      "metadata": {
        "id": "nydyAQfNwKZs"
      },
      "execution_count": null,
      "outputs": []
    }
  ]
}