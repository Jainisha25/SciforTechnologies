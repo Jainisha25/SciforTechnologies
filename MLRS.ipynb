{
  "nbformat": 4,
  "nbformat_minor": 0,
  "metadata": {
    "colab": {
      "provenance": []
    },
    "kernelspec": {
      "name": "python3",
      "display_name": "Python 3"
    },
    "language_info": {
      "name": "python"
    }
  },
  "cells": [
    {
      "cell_type": "markdown",
      "source": [
        "##Multiple Linear Regression from Scratch:"
      ],
      "metadata": {
        "id": "jZhgS0IS273l"
      }
    },
    {
      "cell_type": "code",
      "execution_count": 1,
      "metadata": {
        "id": "kQjE0Fef2YZ_"
      },
      "outputs": [],
      "source": [
        "import numpy as np\n",
        "\n",
        "X_train = np.array([[1,2], [2,3], [3,4],[4,5]])\n",
        "Y_train = np.array([2,3,4,5])"
      ]
    },
    {
      "cell_type": "code",
      "source": [
        "class MultiLinearRegression:\n",
        "  def __init__(self, learning_rate = 0.01, n_iterations = 1000):\n",
        "    self.learning_rate = learning_rate\n",
        "    self.n_iterations = n_iterations\n",
        "    self.weights = None\n",
        "    self.bias = None\n",
        "\n",
        "  def fit(self, X, Y):\n",
        "    n_samples, n_features = X.shape\n",
        "    self.weights = np.zeros(n_features)\n",
        "    self.bias = 0\n",
        "\n",
        "    #Gradient Descent:\n",
        "    for _ in range(self.n_iterations):\n",
        "      y_pred = np.dot(X,self.weights) + self.bias\n",
        "\n",
        "      dw = (1/ n_samples) * np.dot(X.T, (y_pred -Y))\n",
        "      db = (1/ n_samples)* np.sum(y_pred - Y)\n",
        "\n",
        "      self.weights -= self.learning_rate * dw\n",
        "      self.bias -= self.learning_rate * db\n",
        "\n",
        "  def predict(self, X):\n",
        "      return np.dot(X, self.weights) + self.bias"
      ],
      "metadata": {
        "id": "P615uUe23Rcp"
      },
      "execution_count": 5,
      "outputs": []
    },
    {
      "cell_type": "code",
      "source": [
        "model = MultiLinearRegression()\n",
        "model.fit(X_train, Y_train)\n",
        "pred = model.predict(X_train)\n",
        "print(pred)"
      ],
      "metadata": {
        "colab": {
          "base_uri": "https://localhost:8080/"
        },
        "id": "jadOrAxe4aPA",
        "outputId": "c6ea1fdd-f86b-413a-8c45-3dd14c920523"
      },
      "execution_count": 6,
      "outputs": [
        {
          "output_type": "stream",
          "name": "stdout",
          "text": [
            "[1.97388656 2.98771758 4.0015486  5.01537963]\n"
          ]
        }
      ]
    },
    {
      "cell_type": "markdown",
      "source": [
        "##Multi Linear Regression using Scikit-learn:"
      ],
      "metadata": {
        "id": "NIBqB4974tvV"
      }
    },
    {
      "cell_type": "code",
      "source": [
        "from sklearn.linear_model import LinearRegression\n",
        "\n",
        "model1 = LinearRegression()\n",
        "model1.fit(X_train, Y_train)\n",
        "predictions = model.predict(X_train)\n",
        "print(predictions)"
      ],
      "metadata": {
        "colab": {
          "base_uri": "https://localhost:8080/"
        },
        "id": "EKHYvkNV4k9M",
        "outputId": "a42968b6-9e3d-4dad-9d6a-32320a6421ec"
      },
      "execution_count": 7,
      "outputs": [
        {
          "output_type": "stream",
          "name": "stdout",
          "text": [
            "[1.97388656 2.98771758 4.0015486  5.01537963]\n"
          ]
        }
      ]
    },
    {
      "cell_type": "code",
      "source": [],
      "metadata": {
        "id": "kA8omrK45BVm"
      },
      "execution_count": null,
      "outputs": []
    }
  ]
}