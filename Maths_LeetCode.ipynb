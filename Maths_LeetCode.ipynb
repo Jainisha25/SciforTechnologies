{
  "nbformat": 4,
  "nbformat_minor": 0,
  "metadata": {
    "colab": {
      "provenance": []
    },
    "kernelspec": {
      "name": "python3",
      "display_name": "Python 3"
    },
    "language_info": {
      "name": "python"
    }
  },
  "cells": [
    {
      "cell_type": "markdown",
      "source": [
        "##Length of Last Word:"
      ],
      "metadata": {
        "id": "BuJbWVlgPMQO"
      }
    },
    {
      "cell_type": "code",
      "execution_count": 3,
      "metadata": {
        "colab": {
          "base_uri": "https://localhost:8080/"
        },
        "id": "hSFeWVbmPGAm",
        "outputId": "11b28691-e598-4407-acbe-967a293623f8"
      },
      "outputs": [
        {
          "output_type": "stream",
          "name": "stdout",
          "text": [
            "5\n"
          ]
        }
      ],
      "source": [
        "class Solution:\n",
        "    def lengthOfLastWord(self, s: str) -> int:\n",
        "        stripped = s.strip()\n",
        "        strList = stripped.split(\" \")\n",
        "        lastWord = strList[-1]\n",
        "        return len(lastWord)\n",
        "\n",
        "# Instantiate the Solution class\n",
        "solution_instance = Solution()\n",
        "input_string = \"Hello World\"\n",
        "output = solution_instance.lengthOfLastWord(input_string)\n",
        "print(output)"
      ]
    },
    {
      "cell_type": "markdown",
      "source": [
        "##To Lower Case:"
      ],
      "metadata": {
        "id": "9zrnaPzZQaqm"
      }
    },
    {
      "cell_type": "code",
      "source": [
        "class Solution:\n",
        "    def toLowerCase(self, s: str) -> str:\n",
        "        x = s.lower()\n",
        "        return x\n",
        "\n",
        "# Instantiate the Solution class\n",
        "solution_instance = Solution()\n",
        "input_string = \"Hello World\"\n",
        "output = solution_instance.toLowerCase(input_string)\n",
        "print(output)"
      ],
      "metadata": {
        "colab": {
          "base_uri": "https://localhost:8080/"
        },
        "id": "v88_1kg3QW2X",
        "outputId": "598ddcbf-798b-4c30-cb3c-87e3aa82ef8e"
      },
      "execution_count": 5,
      "outputs": [
        {
          "output_type": "stream",
          "name": "stdout",
          "text": [
            "hello world\n"
          ]
        }
      ]
    },
    {
      "cell_type": "markdown",
      "source": [
        "##BaseBall Game:"
      ],
      "metadata": {
        "id": "5NfOnNfwRxSY"
      }
    },
    {
      "cell_type": "code",
      "source": [
        "# Assuming List is imported from the typing module\n",
        "from typing import List\n",
        "\n",
        "class Solution:\n",
        "    def calPoints(self, operations: List[str]) -> int:\n",
        "        stack = []\n",
        "        for i in operations:\n",
        "            if i == 'D':\n",
        "                stack.append(2 * stack[-1])\n",
        "            elif i == 'C':\n",
        "                stack.pop()\n",
        "            elif i == '+':\n",
        "                stack.append(stack[-1] + stack[-2])\n",
        "            else:\n",
        "                stack.append(int(i))\n",
        "        return sum(stack)\n",
        "\n",
        "# Example input list of operations\n",
        "operations_list = [\"5\", \"2\", \"C\", \"D\", \"+\"]\n",
        "solution_instance = Solution()\n",
        "output = solution_instance.calPoints(operations_list)\n",
        "print(output)"
      ],
      "metadata": {
        "colab": {
          "base_uri": "https://localhost:8080/"
        },
        "id": "cH6nLc85QnI_",
        "outputId": "9c66efb4-bb42-47f5-d02f-139b16cc8f67"
      },
      "execution_count": 6,
      "outputs": [
        {
          "output_type": "stream",
          "name": "stdout",
          "text": [
            "30\n"
          ]
        }
      ]
    },
    {
      "cell_type": "markdown",
      "source": [
        "##Robot Return to Origin:"
      ],
      "metadata": {
        "id": "LCSGgREJR9EQ"
      }
    },
    {
      "cell_type": "code",
      "source": [
        "class Solution:\n",
        "    def judgeCircle(self, moves: str) -> bool:\n",
        "        steps = {\n",
        "            'U': [0, -1],\n",
        "            'D': [0, 1],\n",
        "            'L': [1, -1],\n",
        "            'R': [1, 1]\n",
        "        }\n",
        "        origin = [0, 0]\n",
        "\n",
        "        for move in moves:\n",
        "            dir, diff = steps[move]\n",
        "            origin[dir] += diff\n",
        "\n",
        "        return origin[0] == origin[1] == 0\n",
        "\n",
        "# Example input string of moves\n",
        "moves_string = \"UDLRUDLR\"\n",
        "solution_instance = Solution()\n",
        "output = solution_instance.judgeCircle(moves_string)\n",
        "print(output)"
      ],
      "metadata": {
        "colab": {
          "base_uri": "https://localhost:8080/"
        },
        "id": "eKwIBa5iR5jg",
        "outputId": "f9a24f21-ab45-415a-91ec-4e1c35971b9c"
      },
      "execution_count": 7,
      "outputs": [
        {
          "output_type": "stream",
          "name": "stdout",
          "text": [
            "True\n"
          ]
        }
      ]
    },
    {
      "cell_type": "markdown",
      "source": [
        "##Find Winner on a Tic Tac Toe Game:"
      ],
      "metadata": {
        "id": "ClN1Hs8OS5s9"
      }
    },
    {
      "cell_type": "code",
      "source": [
        "class Solution:\n",
        "    def tictactoe(self, moves: List[List[int]]) -> str:\n",
        "        winner = None\n",
        "        matrix = [[0 for _ in range(3)] for _ in range (3)]\n",
        "        for i , (x,y) in enumerate(moves):\n",
        "            matrix [x][y] = 5 if i & 1 else 1\n",
        "\n",
        "        def checkWin(s):\n",
        "            nonlocal winner\n",
        "            if winner: return\n",
        "            if s == 3: winner = 'A'\n",
        "            if s == 15: winner = 'B'\n",
        "\n",
        "        def checkRows():\n",
        "            for row in matrix: checkWin(sum(row))\n",
        "\n",
        "        def checkCols():\n",
        "            for col in zip(*matrix) : checkWin(sum(col))\n",
        "\n",
        "        def checkDia1():\n",
        "            checkWin(matrix[0][0] + matrix[1][1] + matrix [2][2])\n",
        "\n",
        "        def checkDia2():\n",
        "            checkWin(matrix[0][2] + matrix[1][1] + matrix[2][0])\n",
        "\n",
        "        checkRows()\n",
        "        checkCols()\n",
        "        checkDia1()\n",
        "        checkDia2()\n",
        "\n",
        "        return winner or ('Draw' if len(moves) == 9 else 'Pending')\n",
        "\n",
        "# Example input list of moves\n",
        "moves_list = [[0,0], [0,1], [1,1], [1,0], [2,2]]\n",
        "solution_instance = Solution()\n",
        "output = solution_instance.tictactoe(moves_list)\n",
        "print(output)"
      ],
      "metadata": {
        "colab": {
          "base_uri": "https://localhost:8080/"
        },
        "id": "NCLDp1fvS3rg",
        "outputId": "92bff2dc-a0da-4046-8f4b-f0f1deae4dde"
      },
      "execution_count": 9,
      "outputs": [
        {
          "output_type": "stream",
          "name": "stdout",
          "text": [
            "A\n"
          ]
        }
      ]
    },
    {
      "cell_type": "markdown",
      "source": [
        "##Robot Bounded in Circle:"
      ],
      "metadata": {
        "id": "xgGirTmTUtfR"
      }
    },
    {
      "cell_type": "code",
      "source": [
        "class Solution:\n",
        "    def isRobotBounded(self, instructions: str) -> bool:\n",
        "        initial_pos = curr_pos = [0, 0]\n",
        "        directions = {\n",
        "            'N': [0, 1],\n",
        "            'S': [0, -1],\n",
        "            'E': [1, 0],\n",
        "            'W': [-1, 0]\n",
        "        }\n",
        "        news = ['N', 'E', 'W', 'S']\n",
        "        dir = 'N'\n",
        "        for i in range(len(instructions)):\n",
        "            if instructions[i] == 'G':\n",
        "                curr_pos = [x + y for x, y in zip(curr_pos, directions[dir])]\n",
        "            elif instructions[i] == 'L':\n",
        "                dir = news[(news.index(dir) - 1) % len(news)]\n",
        "            elif instructions[i] == 'R':\n",
        "                dir = news[(news.index(dir) + 1) % len(news)]\n",
        "\n",
        "        return initial_pos == curr_pos or dir != 'N'\n",
        "\n",
        "# Example input string of instructions\n",
        "instructions_str = \"GGLLGG\"\n",
        "solution_instance = Solution()\n",
        "output = solution_instance.isRobotBounded(instructions_str)\n",
        "print(output)"
      ],
      "metadata": {
        "colab": {
          "base_uri": "https://localhost:8080/"
        },
        "id": "ilX0GsrnUk-Z",
        "outputId": "2f40e093-9484-4042-f0cd-9769ec83d026"
      },
      "execution_count": 10,
      "outputs": [
        {
          "output_type": "stream",
          "name": "stdout",
          "text": [
            "True\n"
          ]
        }
      ]
    },
    {
      "cell_type": "markdown",
      "source": [
        "##Richest Customer Wwalth:"
      ],
      "metadata": {
        "id": "ZObv6YwFhfiO"
      }
    },
    {
      "cell_type": "code",
      "source": [
        "class Solution:\n",
        "    def maximumWealth(self, accounts: List[List[int]]) -> int:\n",
        "        max_sum = 0\n",
        "\n",
        "        for acc in accounts:\n",
        "            current_sum = sum(acc)\n",
        "            if current_sum > max_sum:\n",
        "                max_sum = current_sum\n",
        "\n",
        "        return max_sum\n",
        "\n",
        "# Example input list of accounts\n",
        "accounts_list = [\n",
        "    [1, 2, 3],\n",
        "    [4, 5, 6],\n",
        "    [7, 8, 9]\n",
        "]\n",
        "\n",
        "# Instantiate the Solution class\n",
        "solution_instance = Solution()\n",
        "output = solution_instance.maximumWealth(accounts_list)\n",
        "print(output)"
      ],
      "metadata": {
        "colab": {
          "base_uri": "https://localhost:8080/"
        },
        "id": "WFNXlf7QhbAz",
        "outputId": "930c7d3f-6df5-41be-93ab-2b452209df01"
      },
      "execution_count": 12,
      "outputs": [
        {
          "output_type": "stream",
          "name": "stdout",
          "text": [
            "24\n"
          ]
        }
      ]
    },
    {
      "cell_type": "markdown",
      "source": [
        "##Matrix Diagonal Sum:"
      ],
      "metadata": {
        "id": "7RMm_5yAk9bF"
      }
    },
    {
      "cell_type": "code",
      "source": [
        "class Solution:\n",
        "    def diagonalSum(self, mat: List[List[int]]) -> int:\n",
        "        ans = 0\n",
        "        i, j = 0, 0\n",
        "        def isValid(i, j): # to check co-ordinates\n",
        "            return 0 <= i < len(mat) and 0 <= j < len(mat[0])\n",
        "\n",
        "        while isValid(i, j): # traverse primary diagonal\n",
        "            ans += mat[i][j]\n",
        "            mat[i][j] = 0 # replace element with 0 to identify\n",
        "            i += 1\n",
        "            j += 1\n",
        "\n",
        "        i, j = len(mat) - 1, 0\n",
        "\n",
        "        while isValid(i, j): # secondary diagonal\n",
        "            ans += mat[i][j]\n",
        "            i -= 1\n",
        "            j += 1\n",
        "\n",
        "        return ans\n",
        "\n",
        "# Example input matrix\n",
        "mat = [\n",
        "    [1, 2, 3],\n",
        "    [4, 5, 6],\n",
        "    [7, 8, 9]\n",
        "]\n",
        "\n",
        "# Instantiate the Solution class\n",
        "solution_instance = Solution()\n",
        "output = solution_instance.diagonalSum(mat)\n",
        "print(output)"
      ],
      "metadata": {
        "colab": {
          "base_uri": "https://localhost:8080/"
        },
        "id": "o5kPi6Gnk0kW",
        "outputId": "7ac3dbd4-58b2-4c2b-8477-2bd8718d75bc"
      },
      "execution_count": 13,
      "outputs": [
        {
          "output_type": "stream",
          "name": "stdout",
          "text": [
            "25\n"
          ]
        }
      ]
    },
    {
      "cell_type": "markdown",
      "source": [
        "##Spiral Matrix:"
      ],
      "metadata": {
        "id": "0_T9-7m-mOlG"
      }
    },
    {
      "cell_type": "code",
      "source": [
        "from typing import List\n",
        "\n",
        "class Solution:\n",
        "    def spiralOrder(self, matrix: List[List[int]]) -> List[int]:\n",
        "        res = []\n",
        "        if len(matrix) == 0:\n",
        "            return res\n",
        "        row_begin = 0\n",
        "        col_begin = 0\n",
        "        row_end = len(matrix) - 1\n",
        "        col_end = len(matrix[0]) - 1\n",
        "        while (row_begin <= row_end and col_begin <= col_end):\n",
        "            for i in range(col_begin, col_end + 1):\n",
        "                res.append(matrix[row_begin][i])\n",
        "            row_begin += 1\n",
        "            for i in range(row_begin, row_end + 1):\n",
        "                res.append(matrix[i][col_end])\n",
        "            col_end -= 1\n",
        "            if (row_begin <= row_end):\n",
        "                for i in range(col_end, col_begin - 1, -1):\n",
        "                    res.append(matrix[row_end][i])\n",
        "                row_end -= 1\n",
        "            if (col_begin <= col_end):\n",
        "                for i in range(row_end, row_begin - 1, -1):\n",
        "                    res.append(matrix[i][col_begin])\n",
        "                col_begin += 1\n",
        "        return res\n",
        "\n",
        "# Example input matrix\n",
        "matrix = [\n",
        "    [1, 2, 3],\n",
        "    [4, 5, 6],\n",
        "    [7, 8, 9]\n",
        "]\n",
        "\n",
        "# Instantiate the Solution class\n",
        "solution_instance = Solution()\n",
        "output = solution_instance.spiralOrder(matrix)\n",
        "print(output)"
      ],
      "metadata": {
        "colab": {
          "base_uri": "https://localhost:8080/"
        },
        "id": "E-LziaPPmMkN",
        "outputId": "51d504a1-88e4-4a70-b45a-8f068a13a21b"
      },
      "execution_count": 14,
      "outputs": [
        {
          "output_type": "stream",
          "name": "stdout",
          "text": [
            "[1, 2, 3, 6, 9, 8, 7, 4, 5]\n"
          ]
        }
      ]
    },
    {
      "cell_type": "markdown",
      "source": [
        "##Set Matrix Zero:"
      ],
      "metadata": {
        "id": "she4gcSJnbD9"
      }
    },
    {
      "cell_type": "code",
      "source": [
        "from typing import List\n",
        "\n",
        "class Solution:\n",
        "    def setZeroes(self, matrix: List[List[int]]) -> None:\n",
        "        \"\"\"\n",
        "        Do not return anything, modify matrix in-place instead.\n",
        "        \"\"\"\n",
        "        rows = set()\n",
        "        cols = set()\n",
        "\n",
        "        # Loop through matrix and track rows and cols with zeros\n",
        "        for row in range(len(matrix)):\n",
        "            for col in range(len(matrix[row])):\n",
        "                if matrix[row][col] == 0:\n",
        "                    rows.add(row)\n",
        "                    cols.add(col)\n",
        "\n",
        "        # Loop through matrix again\n",
        "        # Set zeros if row / col in sets from above\n",
        "        for r in range(len(matrix)):\n",
        "            for c in range(len(matrix[r])):\n",
        "                if r in rows or c in cols:\n",
        "                    matrix[r][c] = 0\n",
        "\n",
        "# Example input matrix\n",
        "matrix = [\n",
        "    [1, 2, 3],\n",
        "    [4, 0, 6],\n",
        "    [7, 8, 9]\n",
        "]\n",
        "\n",
        "# Instantiate the Solution class\n",
        "solution_instance = Solution()\n",
        "solution_instance.setZeroes(matrix)\n",
        "for row in matrix:\n",
        "    print(row)"
      ],
      "metadata": {
        "colab": {
          "base_uri": "https://localhost:8080/"
        },
        "id": "2aGum2oFm0a6",
        "outputId": "5aeb1752-2658-4125-8f28-fbfa5eeed49f"
      },
      "execution_count": 15,
      "outputs": [
        {
          "output_type": "stream",
          "name": "stdout",
          "text": [
            "[1, 0, 3]\n",
            "[0, 0, 0]\n",
            "[7, 0, 9]\n"
          ]
        }
      ]
    },
    {
      "cell_type": "markdown",
      "source": [
        "##Count Odd Numbers in an Integer:"
      ],
      "metadata": {
        "id": "I4cstXuZn2Re"
      }
    },
    {
      "cell_type": "code",
      "source": [
        "class Solution:\n",
        "    def countOdds(self, low: int, high: int) -> int:\n",
        "        num_in_between = high - low + 1\n",
        "\n",
        "        if num_in_between & 1 == 1:\n",
        "            if low & 1 == 1:\n",
        "                return (num_in_between + 1) // 2\n",
        "\n",
        "        return num_in_between // 2\n",
        "\n",
        "# Example input range\n",
        "low = 3\n",
        "high = 7\n",
        "\n",
        "# Instantiate the Solution class\n",
        "solution_instance = Solution()\n",
        "output = solution_instance.countOdds(low, high)\n",
        "print(output)"
      ],
      "metadata": {
        "colab": {
          "base_uri": "https://localhost:8080/"
        },
        "id": "XVtZng6InxCu",
        "outputId": "03d822f9-81a2-4d23-cc75-aaac04d7ead3"
      },
      "execution_count": 16,
      "outputs": [
        {
          "output_type": "stream",
          "name": "stdout",
          "text": [
            "3\n"
          ]
        }
      ]
    },
    {
      "cell_type": "markdown",
      "source": [
        "##Average Salary Excluding the Min and Max:"
      ],
      "metadata": {
        "id": "TbK0Ilklos40"
      }
    },
    {
      "cell_type": "code",
      "source": [
        "class Solution:\n",
        "    def average(self, salary: List[int]) -> float:\n",
        "        s = 0\n",
        "        min_sal = 1000000\n",
        "        max_sal = 0\n",
        "        n= 0\n",
        "\n",
        "        for i in salary:\n",
        "            n+= 1\n",
        "            s += i\n",
        "            if min_sal>i:\n",
        "                min_sal = i\n",
        "            if max_sal< i:\n",
        "                max_sal = i\n",
        "\n",
        "        return (s-min_sal-max_sal)/(n-2)\n",
        "# Example input list of salaries\n",
        "salary = [6000, 5000, 7000, 8000, 9000]\n",
        "\n",
        "# Instantiate the Solution class\n",
        "solution_instance = Solution()\n",
        "output = solution_instance.average(salary)\n",
        "print(output)"
      ],
      "metadata": {
        "colab": {
          "base_uri": "https://localhost:8080/"
        },
        "id": "hCujiNnEomG1",
        "outputId": "18b00073-ec66-4db5-d1e1-05142e6e1e84"
      },
      "execution_count": 18,
      "outputs": [
        {
          "output_type": "stream",
          "name": "stdout",
          "text": [
            "7000.0\n"
          ]
        }
      ]
    },
    {
      "cell_type": "markdown",
      "source": [
        "##Lemonade Change:"
      ],
      "metadata": {
        "id": "6FzaE9zHwl0X"
      }
    },
    {
      "cell_type": "code",
      "source": [
        "class Solution:\n",
        "    def lemonadeChange(self, bills: List[int]) -> bool:\n",
        "        exchange = {5:0, 10:0}\n",
        "        for bill in bills:\n",
        "            if bill == 5 :\n",
        "                exchange[5] +=1\n",
        "            elif bill == 10 and exchange[5]:\n",
        "                exchange[10] +=1\n",
        "                exchange[5] -= 1\n",
        "            elif bill == 20 and ((exchange[5] and exchange[10]) or exchange[5] >=3):\n",
        "                if exchange[5] and exchange[10]:\n",
        "                    exchange[5] -= 1\n",
        "                    exchange[10] -=1\n",
        "                else:\n",
        "                    exchange[5] -=3\n",
        "            else : return False\n",
        "        return True\n",
        "\n",
        "\n",
        "# Example input list of bills\n",
        "bills = [5, 5, 5, 10, 20]\n",
        "\n",
        "# Instantiate the Solution class\n",
        "solution_instance = Solution()\n",
        "output = solution_instance.lemonadeChange(bills)\n",
        "print(output)"
      ],
      "metadata": {
        "colab": {
          "base_uri": "https://localhost:8080/"
        },
        "id": "BgSGC9pJv_8v",
        "outputId": "22900f95-de2b-422f-f49d-02d77c501e1a"
      },
      "execution_count": 19,
      "outputs": [
        {
          "output_type": "stream",
          "name": "stdout",
          "text": [
            "True\n"
          ]
        }
      ]
    },
    {
      "cell_type": "markdown",
      "source": [
        "##Largest Perimeter Triangle:"
      ],
      "metadata": {
        "id": "as5HFBnFxy_T"
      }
    },
    {
      "cell_type": "code",
      "source": [
        "class Solution(object):\n",
        "    def largestPerimeter(self, A):\n",
        "        A.sort(reverse=True)\n",
        "\n",
        "        for i in range(len(A)-2):\n",
        "            a = A[i]\n",
        "            b = A[i+1]\n",
        "            c = A[i+2]\n",
        "            if a < b + c:\n",
        "                return a + b + c\n",
        "\n",
        "        return 0\n",
        "\n",
        "# Example input list\n",
        "A = [3, 6, 2, 3]\n",
        "\n",
        "# Instantiate the Solution class\n",
        "solution_instance = Solution()\n",
        "output = solution_instance.largestPerimeter(A)\n",
        "print(output)"
      ],
      "metadata": {
        "colab": {
          "base_uri": "https://localhost:8080/"
        },
        "id": "3_p-dID9xd4p",
        "outputId": "5eaddd8d-a6d8-4ce3-d95f-458cade13174"
      },
      "execution_count": 20,
      "outputs": [
        {
          "output_type": "stream",
          "name": "stdout",
          "text": [
            "8\n"
          ]
        }
      ]
    },
    {
      "cell_type": "markdown",
      "source": [
        "##Check if it is a Striaght Line:"
      ],
      "metadata": {
        "id": "BQo4OVXoyorh"
      }
    },
    {
      "cell_type": "code",
      "source": [
        "class Solution:\n",
        "    def checkStraightLine(self, coordinates):\n",
        "        x0, y0 = coordinates[0]\n",
        "        x1, y1 = coordinates[1]\n",
        "\n",
        "        for i in range(2, len(coordinates)):\n",
        "            x, y = coordinates[i]\n",
        "            if (x - x0) * (y1 - y0) != (y - y0) * (x1 - x0):\n",
        "                return False\n",
        "\n",
        "        return True\n",
        "\n",
        "# Example input list of coordinates\n",
        "coordinates = [[1, 2], [2, 3], [3, 4], [4, 5]]\n",
        "\n",
        "# Instantiate the Solution class\n",
        "solution_instance = Solution()\n",
        "output = solution_instance.checkStraightLine(coordinates)\n",
        "print(output)"
      ],
      "metadata": {
        "colab": {
          "base_uri": "https://localhost:8080/"
        },
        "id": "LobD_P9PyiDj",
        "outputId": "c01fc1d6-cda3-466e-b84d-94beefc33985"
      },
      "execution_count": 21,
      "outputs": [
        {
          "output_type": "stream",
          "name": "stdout",
          "text": [
            "True\n"
          ]
        }
      ]
    },
    {
      "cell_type": "markdown",
      "source": [
        "##Add Binary:"
      ],
      "metadata": {
        "id": "JPZ_jl1QzL8q"
      }
    },
    {
      "cell_type": "code",
      "source": [
        "class Solution:\n",
        "    def addBinary(self, a: str, b: str) -> str:\n",
        "        s = []\n",
        "        carry = 0\n",
        "        i = len(a) - 1\n",
        "        j = len(b) - 1\n",
        "\n",
        "        while i >= 0 or j >= 0 or carry:\n",
        "            if i >= 0:\n",
        "                carry += int(a[i])\n",
        "                i -= 1\n",
        "            if j >= 0:\n",
        "                carry += int(b[j])\n",
        "                j -= 1\n",
        "            s.append(str(carry % 2))\n",
        "            carry //= 2\n",
        "\n",
        "        return ''.join(reversed(s))\n",
        "\n",
        "# Example input binary strings\n",
        "a = \"1010\"\n",
        "b = \"1011\"\n",
        "\n",
        "# Instantiate the Solution class\n",
        "solution_instance = Solution()\n",
        "output = solution_instance.addBinary(a, b)\n",
        "print(output)"
      ],
      "metadata": {
        "colab": {
          "base_uri": "https://localhost:8080/"
        },
        "id": "jplAuggRzHZz",
        "outputId": "143a287f-01fb-4066-d9ae-ba8e79e60758"
      },
      "execution_count": 1,
      "outputs": [
        {
          "output_type": "stream",
          "name": "stdout",
          "text": [
            "10101\n"
          ]
        }
      ]
    },
    {
      "cell_type": "markdown",
      "source": [
        "##Multiply Strings:"
      ],
      "metadata": {
        "id": "FzvbexrtquvS"
      }
    },
    {
      "cell_type": "code",
      "source": [
        "class Solution:\n",
        "    def multiply(self, num1: str, num2: str) -> str:\n",
        "        int_num_1 = int(num1)\n",
        "        int_num_2 = int(num2)\n",
        "\n",
        "        result = int_num_1 * int_num_2\n",
        "\n",
        "        # Convert the result back to a string\n",
        "        result_str = str(result)\n",
        "\n",
        "        return result_str\n",
        "\n",
        "# Example usage\n",
        "solution_instance = Solution()\n",
        "result = solution_instance.multiply(\"123\", \"456\")\n",
        "print(result)"
      ],
      "metadata": {
        "colab": {
          "base_uri": "https://localhost:8080/"
        },
        "id": "oD3ldI4IqsYx",
        "outputId": "cf130156-3de5-415c-b84a-4641b7754ffe"
      },
      "execution_count": 2,
      "outputs": [
        {
          "output_type": "stream",
          "name": "stdout",
          "text": [
            "56088\n"
          ]
        }
      ]
    },
    {
      "cell_type": "markdown",
      "source": [
        "##Pow(x,n)"
      ],
      "metadata": {
        "id": "n6uo6vLDswf8"
      }
    },
    {
      "cell_type": "code",
      "source": [
        "class Solution:\n",
        "    def myPow(self, x: float, n: int) -> float:\n",
        "        Pow = x ** n\n",
        "        return Pow\n",
        "\n",
        "# Example usage\n",
        "solution_instance = Solution()\n",
        "result = solution_instance.myPow(2.0, 3)\n",
        "print(result)"
      ],
      "metadata": {
        "colab": {
          "base_uri": "https://localhost:8080/"
        },
        "id": "xYHTtO_Ostcr",
        "outputId": "efbea28e-1f77-4ac2-8c76-2f88cc03386e"
      },
      "execution_count": 3,
      "outputs": [
        {
          "output_type": "stream",
          "name": "stdout",
          "text": [
            "8.0\n"
          ]
        }
      ]
    },
    {
      "cell_type": "code",
      "source": [],
      "metadata": {
        "id": "8WCtYtZPtNiJ"
      },
      "execution_count": null,
      "outputs": []
    }
  ]
}