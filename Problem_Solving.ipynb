{
  "nbformat": 4,
  "nbformat_minor": 0,
  "metadata": {
    "colab": {
      "provenance": []
    },
    "kernelspec": {
      "name": "python3",
      "display_name": "Python 3"
    },
    "language_info": {
      "name": "python"
    }
  },
  "cells": [
    {
      "cell_type": "markdown",
      "source": [
        "##What is the differnce between list and tuple in Python?"
      ],
      "metadata": {
        "id": "hZpm7wI7wwiM"
      }
    },
    {
      "cell_type": "markdown",
      "source": [
        "Tuples are immutable while Lists are mutable. List are possible to change while tuple are not."
      ],
      "metadata": {
        "id": "aRBIO1fMw3gS"
      }
    },
    {
      "cell_type": "markdown",
      "source": [
        "##Explain the concept of PEP 8?"
      ],
      "metadata": {
        "id": "wRTTAs_6xQV-"
      }
    },
    {
      "cell_type": "markdown",
      "source": [
        "PEP 8 is a doc that guides on best practices on how to write Python Code.\n",
        "\n",
        "It improves the readability and consistency of Python Code."
      ],
      "metadata": {
        "id": "t8oFdKACxkKF"
      }
    },
    {
      "cell_type": "markdown",
      "source": [
        "##What is the purpose of the __init__ method in Python classes?"
      ],
      "metadata": {
        "id": "-LfCsnsSx4U0"
      }
    },
    {
      "cell_type": "markdown",
      "source": [
        "__init__ intialize the attributes of an object as soon as object is formed."
      ],
      "metadata": {
        "id": "svClPtwryB-x"
      }
    },
    {
      "cell_type": "code",
      "execution_count": null,
      "metadata": {
        "colab": {
          "base_uri": "https://localhost:8080/"
        },
        "id": "aF-Gd-hItxBq",
        "outputId": "e2031f7e-9993-4c9b-9652-6bdf4c6e451f"
      },
      "outputs": [
        {
          "output_type": "stream",
          "name": "stdout",
          "text": [
            "John is 25 years old\n"
          ]
        }
      ],
      "source": [
        "class Person:\n",
        "  def __init__(self, name, age):\n",
        "    self.name = name\n",
        "    self.age = age\n",
        "\n",
        "person_obj = Person(name=\"John\", age=25)\n",
        "print(f\"{person_obj.name} is {person_obj.age} years old\")"
      ]
    },
    {
      "cell_type": "markdown",
      "source": [
        "##How does inheritance work in Python? Provide an example."
      ],
      "metadata": {
        "id": "cWjN_XU5zBNa"
      }
    },
    {
      "cell_type": "markdown",
      "source": [
        "Inheritance allows us to define a class that inherits all the methods and properties from another class.\n",
        "\n",
        "Parent Class is the class being inherited from, also base class.\n",
        "\n",
        "CHild Class is the class that inherits from another class, also called dervied class.\n",
        "\n",
        "3 types of inheritance:\n",
        "Single level\n",
        "Multi level\n",
        "Multiple\n",
        "Hybrid"
      ],
      "metadata": {
        "id": "0fLLtMv-zOW3"
      }
    },
    {
      "cell_type": "code",
      "source": [
        "#Single Level:\n",
        "class Animal:\n",
        "  def speak(self):\n",
        "    print(\"Animal speaks\")\n",
        "\n",
        "class Dog(Animal):\n",
        "  def bark(self):\n",
        "    print(\"Dog barks\")\n",
        "\n",
        "dog = Dog()\n",
        "dog.speak()#Inheritance\n",
        "dog.bark()"
      ],
      "metadata": {
        "colab": {
          "base_uri": "https://localhost:8080/"
        },
        "id": "2wSc1NGjy_yl",
        "outputId": "48eb1a7e-974f-4eed-da53-a1d92408a29b"
      },
      "execution_count": null,
      "outputs": [
        {
          "output_type": "stream",
          "name": "stdout",
          "text": [
            "Animal speaks\n",
            "Dog barks\n"
          ]
        }
      ]
    },
    {
      "cell_type": "code",
      "source": [
        "#Multilevel:\n",
        "class A:\n",
        "  def method_A(self):\n",
        "    print(\"Method A\")\n",
        "\n",
        "class B(A):\n",
        "  def method_B(self):\n",
        "    print(\"Method B\")\n",
        "\n",
        "class C(B):\n",
        "  def method_C(self):\n",
        "    print(\"Method C\")\n",
        "\n",
        "instance = C()\n",
        "instance.method_A()\n",
        "instance.method_B()\n",
        "instance.method_C()"
      ],
      "metadata": {
        "colab": {
          "base_uri": "https://localhost:8080/"
        },
        "id": "z8fPNK8b0E0x",
        "outputId": "a1306343-72fa-4c90-f987-a243290e9641"
      },
      "execution_count": null,
      "outputs": [
        {
          "output_type": "stream",
          "name": "stdout",
          "text": [
            "Method A\n",
            "Method B\n",
            "Method C\n"
          ]
        }
      ]
    },
    {
      "cell_type": "code",
      "source": [
        "#Multiple:\n",
        "class A:\n",
        "  def method_A(self):\n",
        "    print(\"Method A\")\n",
        "\n",
        "class B:\n",
        "  def method_B(self):\n",
        "    print(\"Method B\")\n",
        "\n",
        "class C(A,B):\n",
        "  def method_C(self):\n",
        "    print(\"Method C\")\n",
        "\n",
        "instance = C()\n",
        "instance.method_A()\n",
        "instance.method_B()\n",
        "instance.method_C()"
      ],
      "metadata": {
        "colab": {
          "base_uri": "https://localhost:8080/"
        },
        "id": "OjV3bk2e0t56",
        "outputId": "558fe68c-881c-4507-c698-c5b8a6a22605"
      },
      "execution_count": null,
      "outputs": [
        {
          "output_type": "stream",
          "name": "stdout",
          "text": [
            "Method A\n",
            "Method B\n",
            "Method C\n"
          ]
        }
      ]
    },
    {
      "cell_type": "code",
      "source": [
        "#Hybrid:\n",
        "class A:\n",
        "    def method_A(self):\n",
        "        print(\"Method A\")\n",
        "\n",
        "class B(A):\n",
        "    def method_B(self):\n",
        "        print(\"Method B\")\n",
        "\n",
        "class C(A):\n",
        "    def method_C(self):\n",
        "        print(\"Method C\")\n",
        "\n",
        "class D(B, C):\n",
        "    def method_D(self):\n",
        "        print(\"Method D\")\n",
        "\n",
        "instance = D()\n",
        "instance.method_A()\n",
        "instance.method_B()\n",
        "instance.method_C()\n",
        "instance.method_D()"
      ],
      "metadata": {
        "colab": {
          "base_uri": "https://localhost:8080/"
        },
        "id": "6RoYHrI61JXd",
        "outputId": "7d9d3ec5-1026-45d0-b62b-6c8702e1f9d6"
      },
      "execution_count": null,
      "outputs": [
        {
          "output_type": "stream",
          "name": "stdout",
          "text": [
            "Method A\n",
            "Method B\n",
            "Method C\n",
            "Method D\n"
          ]
        }
      ]
    },
    {
      "cell_type": "markdown",
      "source": [
        "##Explain difference between static method and class method:"
      ],
      "metadata": {
        "id": "P--h02IQ1fGq"
      }
    },
    {
      "cell_type": "markdown",
      "source": [
        "Class method can access to the class object and can modify class-level attributes. It can create or modify class variable. While Static Method do not have access  to the class object and cannot modify class-level attribute."
      ],
      "metadata": {
        "id": "ke3v3Iul16HL"
      }
    },
    {
      "cell_type": "markdown",
      "source": [
        "##What is Polymorphism in Python? Given an example."
      ],
      "metadata": {
        "id": "7tbt3G062Y7y"
      }
    },
    {
      "cell_type": "markdown",
      "source": [
        "Polymorphism allows objects of different classes to be treated as object of a common base class. It enables a single interface to represent different types of objects.\n",
        "\n",
        "2 types:\n",
        "Method Overloading\n",
        "Method Overriding"
      ],
      "metadata": {
        "id": "uEcV1HSJ2mGJ"
      }
    },
    {
      "cell_type": "code",
      "source": [
        "class MathOperations:\n",
        "    def add(self, a, b, c=None):\n",
        "        if c is not None:\n",
        "            return a + b + c\n",
        "        else:\n",
        "            return a + b\n",
        "\n",
        "# Create an instance of the class\n",
        "math_ops = MathOperations()\n",
        "\n",
        "# Call the \"overloaded\" method\n",
        "result1 = math_ops.add(2, 3)\n",
        "result2 = math_ops.add(2, 3, 4)\n",
        "\n",
        "print(f\"Result 1: {result1}\")\n",
        "print(f\"Result 2: {result2}\")"
      ],
      "metadata": {
        "colab": {
          "base_uri": "https://localhost:8080/"
        },
        "id": "3tPhvKB22UMk",
        "outputId": "041b9362-903d-429b-b6a0-2f866ff40f9c"
      },
      "execution_count": null,
      "outputs": [
        {
          "output_type": "stream",
          "name": "stdout",
          "text": [
            "Result 1: 5\n",
            "Result 2: 9\n"
          ]
        }
      ]
    },
    {
      "cell_type": "code",
      "source": [
        "#Method Overriding:\n",
        "class Animal:\n",
        "    def speak(self):\n",
        "        print(\"Animal speaks\")\n",
        "\n",
        "class Dog(Animal):\n",
        "    def speak(self):\n",
        "        print(\"Dog barks\")\n",
        "\n",
        "class Cat(Animal):\n",
        "    def speak(self):\n",
        "        print(\"Cat meows\")\n",
        "\n",
        "# Create instances of the subclasses\n",
        "dog = Dog()\n",
        "cat = Cat()\n",
        "\n",
        "# Call the overridden methods\n",
        "dog.speak()\n",
        "cat.speak()"
      ],
      "metadata": {
        "colab": {
          "base_uri": "https://localhost:8080/"
        },
        "id": "VqsvCyHc2_rW",
        "outputId": "50b95bea-78cd-4d96-fe95-f8cceff1d32e"
      },
      "execution_count": null,
      "outputs": [
        {
          "output_type": "stream",
          "name": "stdout",
          "text": [
            "Dog barks\n",
            "Cat meows\n"
          ]
        }
      ]
    },
    {
      "cell_type": "markdown",
      "source": [
        "##How do you handle exceptions in Python?"
      ],
      "metadata": {
        "id": "pS7EhtUA3cPc"
      }
    },
    {
      "cell_type": "markdown",
      "source": [
        "The try and except block in Python is used to catch and handle exceptions. Code that follows the except statement is the program's response to any exceptions in the preceding try clause."
      ],
      "metadata": {
        "id": "EUlPoB3n3soV"
      }
    },
    {
      "cell_type": "code",
      "source": [
        "def divide_numbers(a, b):\n",
        "    try:\n",
        "        result = a / b\n",
        "        print(f\"The result of {a} divided by {b} is: {result}\")\n",
        "    except ZeroDivisionError:\n",
        "        print(\"Error: Division by zero is not allowed.\")\n",
        "    except Exception as e:\n",
        "        print(f\"An unexpected error occurred: {e}\")\n",
        "    finally:\n",
        "        print(\"This block always executes, regardless of whether an exception occurred or not.\")\n",
        "\n",
        "# Example usage\n",
        "divide_numbers(10, 2)\n",
        "divide_numbers(5, 0)\n",
        "divide_numbers(\"a\", 2)"
      ],
      "metadata": {
        "colab": {
          "base_uri": "https://localhost:8080/"
        },
        "id": "g1WrDelo3PFd",
        "outputId": "159424b4-b36b-4c45-b3d4-343176ea3f83"
      },
      "execution_count": null,
      "outputs": [
        {
          "output_type": "stream",
          "name": "stdout",
          "text": [
            "The result of 10 divided by 2 is: 5.0\n",
            "This block always executes, regardless of whether an exception occurred or not.\n",
            "Error: Division by zero is not allowed.\n",
            "This block always executes, regardless of whether an exception occurred or not.\n",
            "An unexpected error occurred: unsupported operand type(s) for /: 'str' and 'int'\n",
            "This block always executes, regardless of whether an exception occurred or not.\n"
          ]
        }
      ]
    },
    {
      "cell_type": "markdown",
      "source": [
        "##What is a decorator in Python?Provide an example."
      ],
      "metadata": {
        "id": "Rlfv6T3m4V0E"
      }
    },
    {
      "cell_type": "markdown",
      "source": [
        "Decorators allows programmers to modify the behaviour of a function or class. It allows us to wrap another function in order to extend the behaviour of the wrapped function, without permanently modifying it."
      ],
      "metadata": {
        "id": "Vf8__71id6eZ"
      }
    },
    {
      "cell_type": "code",
      "source": [
        "def shout(text):\n",
        "  return text.upper()\n",
        "\n",
        "print(shout(\"Hello\"))\n",
        "yell = shout\n",
        "\n",
        "print(yell('Hello'))"
      ],
      "metadata": {
        "colab": {
          "base_uri": "https://localhost:8080/"
        },
        "id": "DMFyFPdbeQb_",
        "outputId": "348e48c4-d97d-40b2-dc8e-a12259d1aeea"
      },
      "execution_count": 1,
      "outputs": [
        {
          "output_type": "stream",
          "name": "stdout",
          "text": [
            "HELLO\n",
            "HELLO\n"
          ]
        }
      ]
    },
    {
      "cell_type": "markdown",
      "source": [
        "##How do you implement encapsulation in Python?"
      ],
      "metadata": {
        "id": "eaPqHDYf4wen"
      }
    },
    {
      "cell_type": "markdown",
      "source": [
        "Encapsulation describes the idea of wrapping data and the methods taht work on data within one unit. This puts restrictions on accessing variables and methods directly and can prevent the accidental modification of data."
      ],
      "metadata": {
        "id": "1n_eUY36ee8k"
      }
    },
    {
      "cell_type": "code",
      "source": [
        "class Car:\n",
        "    def __init__(self, make, model):\n",
        "        # Private attributes\n",
        "        self._make = make\n",
        "        self._model = model\n",
        "        self._mileage = 0\n",
        "\n",
        "    # Public method to get the make of the car\n",
        "    def get_make(self):\n",
        "        return self._make\n",
        "\n",
        "    # Public method to get the model of the car\n",
        "    def get_model(self):\n",
        "        return self._model\n",
        "\n",
        "    # Public method to get the mileage of the car\n",
        "    def get_mileage(self):\n",
        "        return self._mileage\n",
        "\n",
        "    # Public method to set the mileage of the car\n",
        "    def set_mileage(self, mileage):\n",
        "        if mileage >= 0:\n",
        "            self._mileage = mileage\n",
        "        else:\n",
        "            print(\"Mileage cannot be negative.\")\n",
        "\n",
        "# Creating an instance of the Car class\n",
        "my_car = Car(make=\"Toyota\", model=\"Camry\")\n",
        "\n",
        "# Accessing attributes through public methods\n",
        "print(f\"Make: {my_car.get_make()}\")\n",
        "print(f\"Model: {my_car.get_model()}\")\n",
        "print(f\"Mileage: {my_car.get_mileage()} miles\")\n",
        "\n",
        "# Setting mileage through a public method\n",
        "my_car.set_mileage(5000)\n",
        "\n",
        "# Accessing updated mileage\n",
        "print(f\"Updated Mileage: {my_car.get_mileage()} miles\")\n",
        "\n",
        "# Trying to set negative mileage (will print an error message)\n",
        "my_car.set_mileage(-100)"
      ],
      "metadata": {
        "colab": {
          "base_uri": "https://localhost:8080/"
        },
        "id": "fJeODLTNe6zL",
        "outputId": "81a15724-ef5c-4490-ad5d-9c90fce10d56"
      },
      "execution_count": 2,
      "outputs": [
        {
          "output_type": "stream",
          "name": "stdout",
          "text": [
            "Make: Toyota\n",
            "Model: Camry\n",
            "Mileage: 0 miles\n",
            "Updated Mileage: 5000 miles\n",
            "Mileage cannot be negative.\n"
          ]
        }
      ]
    },
    {
      "cell_type": "markdown",
      "source": [
        "##Explain the concept of duck typing."
      ],
      "metadata": {
        "id": "pATRXD-x457w"
      }
    },
    {
      "cell_type": "markdown",
      "source": [
        "##What is the differnce between append() and extend() methods for lists?"
      ],
      "metadata": {
        "id": "Y9pZRtG849UR"
      }
    },
    {
      "cell_type": "markdown",
      "source": [
        "append() method is used to add a single element to the end of a list. The element can be of any data type, including another list. It modifies the original list in place."
      ],
      "metadata": {
        "id": "s9bhhFbafYGA"
      }
    },
    {
      "cell_type": "markdown",
      "source": [
        "extend() method is used to append the elements of an iterable to the end of the original list. It takes an iterable as an argument and adds its elemnts to the list."
      ],
      "metadata": {
        "id": "K93-opZCfxbu"
      }
    },
    {
      "cell_type": "code",
      "source": [
        "#append()\n",
        "my_list = [1, 2, 3]\n",
        "my_list.append(4)\n",
        "print(my_list)"
      ],
      "metadata": {
        "colab": {
          "base_uri": "https://localhost:8080/"
        },
        "id": "O7NWKubBfOK4",
        "outputId": "f4aefb7e-8d2f-40a9-a9c3-a2415da2df30"
      },
      "execution_count": 3,
      "outputs": [
        {
          "output_type": "stream",
          "name": "stdout",
          "text": [
            "[1, 2, 3, 4]\n"
          ]
        }
      ]
    },
    {
      "cell_type": "code",
      "source": [
        "#extend()\n",
        "list1 = [1, 2, 3]\n",
        "list2 = [4, 5, 6]\n",
        "list1.extend(list2)\n",
        "print(list1)"
      ],
      "metadata": {
        "colab": {
          "base_uri": "https://localhost:8080/"
        },
        "id": "x8UIty8SgD85",
        "outputId": "2b5c3076-c15a-4a0d-d454-5ba3f55ffce8"
      },
      "execution_count": 4,
      "outputs": [
        {
          "output_type": "stream",
          "name": "stdout",
          "text": [
            "[1, 2, 3, 4, 5, 6]\n"
          ]
        }
      ]
    },
    {
      "cell_type": "markdown",
      "source": [
        "##How does the with statement work in Pyhton?"
      ],
      "metadata": {
        "id": "0NRe3sjG5DiQ"
      }
    },
    {
      "cell_type": "markdown",
      "source": [
        "Thw 'with' statement is used to simplify the manangement of resurces, such as file handling or metwork connections. It ensures that certainoperations are properly initiailized and finalized, even if an exception occurs during the exception of the block of code."
      ],
      "metadata": {
        "id": "az5whZqNgNyi"
      }
    },
    {
      "cell_type": "code",
      "source": [
        "# Writing to a file using 'with' statement\n",
        "with open(\"example.txt\", \"w\") as file:\n",
        "    file.write(\"Hello, this is an example.\")\n",
        "\n",
        "# Reading from the file using 'with' statement\n",
        "with open(\"example.txt\", \"r\") as file:\n",
        "    content = file.read()\n",
        "    print(content)\n",
        "# The file is automatically closed when the block is exited"
      ],
      "metadata": {
        "colab": {
          "base_uri": "https://localhost:8080/"
        },
        "id": "Lq7LO4vHswnK",
        "outputId": "1edf6b9e-77f5-43e7-ea1b-ff0cc6fed2ab"
      },
      "execution_count": 5,
      "outputs": [
        {
          "output_type": "stream",
          "name": "stdout",
          "text": [
            "Hello, this is an example.\n"
          ]
        }
      ]
    },
    {
      "cell_type": "markdown",
      "source": [
        "##Discuss the use of self in Python classes."
      ],
      "metadata": {
        "id": "lapwWHPz5Jls"
      }
    },
    {
      "cell_type": "markdown",
      "source": [
        "The ' self' is used as a conventional name for the first paramedters of a class method. It represents the instance of the class and is passed automatically when a method is on an object. The use of 'self' is essential for reffering to instance variables and other methods within the class."
      ],
      "metadata": {
        "id": "QrjQvh4ptCr9"
      }
    },
    {
      "cell_type": "markdown",
      "source": [
        "##Explain the purpose of the _slots_ attribute."
      ],
      "metadata": {
        "id": "flaiejZT5NcD"
      }
    },
    {
      "cell_type": "markdown",
      "source": [
        "the __slots__ attribute is used to explicity declare instance variables within a class. This declaration restricts the set of attributes that instances of the class can have, which can lead to more memory-efficient instances and can also have catch certain types of programming errors."
      ],
      "metadata": {
        "id": "XUzC_JSTtgFY"
      }
    },
    {
      "cell_type": "code",
      "source": [
        "class Person:\n",
        "    __slots__ = ('name', 'age', 'city')\n",
        "\n",
        "    def __init__(self, name, age, city):\n",
        "        self.name = name\n",
        "        self.age = age\n",
        "        self.city = city\n",
        "\n",
        "# Creating an instance with the 'city' attribute\n",
        "person1 = Person(\"Alice\", 25, \"New York\")\n",
        "\n",
        "# Accessing attributes\n",
        "print(person1.name, person1.age, person1.city)"
      ],
      "metadata": {
        "colab": {
          "base_uri": "https://localhost:8080/"
        },
        "id": "pxJX5Dort3r6",
        "outputId": "d3faa583-d2ce-429e-ccd8-7be16ec7387b"
      },
      "execution_count": 7,
      "outputs": [
        {
          "output_type": "stream",
          "name": "stdout",
          "text": [
            "Alice 25 New York\n"
          ]
        }
      ]
    },
    {
      "cell_type": "markdown",
      "source": [
        "##What is the difference between an instance variable and a class variable?"
      ],
      "metadata": {
        "id": "NABfcnjp5S4i"
      }
    },
    {
      "cell_type": "markdown",
      "source": [
        "Instance variable and class variable are 2 types of variables in OOPs they serve differnet purposes within a class."
      ],
      "metadata": {
        "id": "GwEH391SuNSS"
      }
    },
    {
      "cell_type": "markdown",
      "source": [
        "Instance Variable: These are variables that are specific to each instance of a class. Every object created from the class has its own copy of the instance variables."
      ],
      "metadata": {
        "id": "rT2knjDmuZmw"
      }
    },
    {
      "cell_type": "markdown",
      "source": [
        "Class Variables: These are variable that are shared among all instances of a class.There is only one copy of a class variable, and it is shared by all objects of that class."
      ],
      "metadata": {
        "id": "Dc5mVthtuZjM"
      }
    },
    {
      "cell_type": "code",
      "source": [
        "class Example:\n",
        "    class_var = \"Shared among all instances\"\n",
        "\n",
        "    def __init__(self, instance_var):\n",
        "        self.instance_var = instance_var\n",
        "\n",
        "# Creating instances\n",
        "obj1 = Example(10)\n",
        "obj2 = Example(20)\n",
        "\n",
        "# Accessing and modifying instance variables\n",
        "print(obj1.instance_var)\n",
        "print(obj2.instance_var)\n",
        "\n",
        "# Accessing and modifying class variable\n",
        "print(Example.class_var)\n",
        "Example.class_var = \"Modified value\"\n",
        "print(Example.class_var)"
      ],
      "metadata": {
        "colab": {
          "base_uri": "https://localhost:8080/"
        },
        "id": "Nmybobaku12V",
        "outputId": "2f109e3f-ed86-43a6-80a1-0d98d3b36dea"
      },
      "execution_count": 8,
      "outputs": [
        {
          "output_type": "stream",
          "name": "stdout",
          "text": [
            "10\n",
            "20\n",
            "Shared among all instances\n",
            "Modified value\n"
          ]
        }
      ]
    },
    {
      "cell_type": "markdown",
      "source": [
        "##How do you implement Encapsulation, Abstraction and Polymorphism?"
      ],
      "metadata": {
        "id": "ylkyv14k5a93"
      }
    },
    {
      "cell_type": "markdown",
      "source": [
        "Other than abstraction are above."
      ],
      "metadata": {
        "id": "-yII-F1mfewn"
      }
    },
    {
      "cell_type": "markdown",
      "source": [
        "Abstraction allows the hiding of complex implementation details and exposing only the relevant features or behaviors. This is achieved through the use of classes, which encapsulate data (attributes) and methods (functions) that operate on the data."
      ],
      "metadata": {
        "id": "G6Edl1tgfiNf"
      }
    },
    {
      "cell_type": "code",
      "source": [
        "from abc import ABC, abstractmethod\n",
        "\n",
        "class Shape(ABC):  # Abstract class\n",
        "    @abstractmethod\n",
        "    def area(self):\n",
        "        pass\n",
        "\n",
        "class Circle(Shape):\n",
        "    def __init__(self, radius):\n",
        "        self.radius = radius\n",
        "\n",
        "    def area(self):\n",
        "        return 3.14 * self.radius ** 2\n",
        "\n",
        "class Square(Shape):\n",
        "    def __init__(self, side):\n",
        "        self.side = side\n",
        "\n",
        "    def area(self):\n",
        "        return self.side ** 2\n",
        "\n",
        "# Creating instances of Circle and Square\n",
        "circle_instance = Circle(radius=5)\n",
        "square_instance = Square(side=4)\n",
        "\n",
        "# Calculating and printing the areas\n",
        "print(f\"Area of Circle with radius 5: {circle_instance.area()}\")\n",
        "print(f\"Area of Square with side 4: {square_instance.area()}\")"
      ],
      "metadata": {
        "colab": {
          "base_uri": "https://localhost:8080/"
        },
        "id": "Lqvgp-DwvCnF",
        "outputId": "67f67645-f875-49b5-e2e0-9b4f48c9dcdd"
      },
      "execution_count": 10,
      "outputs": [
        {
          "output_type": "stream",
          "name": "stdout",
          "text": [
            "Area of Circle with radius 5: 78.5\n",
            "Area of Square with side 4: 16\n"
          ]
        }
      ]
    },
    {
      "cell_type": "markdown",
      "source": [
        "##How do you implement single level, multiple, multi level and Hybrid"
      ],
      "metadata": {
        "id": "-q_rMAQZ5kC2"
      }
    },
    {
      "cell_type": "markdown",
      "source": [
        "It is as above."
      ],
      "metadata": {
        "id": "cspI94O2fcdb"
      }
    },
    {
      "cell_type": "code",
      "source": [],
      "metadata": {
        "id": "_0gGsbZg4O2O"
      },
      "execution_count": null,
      "outputs": []
    }
  ]
}