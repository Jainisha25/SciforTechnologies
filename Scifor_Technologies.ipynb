{
  "nbformat": 4,
  "nbformat_minor": 0,
  "metadata": {
    "colab": {
      "provenance": []
    },
    "kernelspec": {
      "name": "python3",
      "display_name": "Python 3"
    },
    "language_info": {
      "name": "python"
    }
  },
  "cells": [
    {
      "cell_type": "markdown",
      "source": [
        "##OOPS Concepts:"
      ],
      "metadata": {
        "id": "NJUxkIqvyTKY"
      }
    },
    {
      "cell_type": "code",
      "execution_count": null,
      "metadata": {
        "id": "C3zfHfztyKyB"
      },
      "outputs": [],
      "source": [
        "#Encapsulation: Grouping related data and functions into a single unit, i.e., a class.\n",
        "class Car:\n",
        "    def __init__(self, make, model):\n",
        "        self.make = make\n",
        "        self.model = model\n",
        "\n",
        "    def display_info(self):\n",
        "        print(f\"{self.make} {self.model}\")"
      ]
    },
    {
      "cell_type": "code",
      "source": [
        "car = Car(\"Toyota\", \"Camry\")\n",
        "car.display_info()"
      ],
      "metadata": {
        "colab": {
          "base_uri": "https://localhost:8080/"
        },
        "id": "IwK4WFbY0fMt",
        "outputId": "f4cb24b7-0021-439b-96cd-00fc77afd1c2"
      },
      "execution_count": null,
      "outputs": [
        {
          "output_type": "stream",
          "name": "stdout",
          "text": [
            "Toyota Camry\n"
          ]
        }
      ]
    },
    {
      "cell_type": "code",
      "source": [
        "#Abstraction: Simplifying complex systems by modeling classes based on the essential properties and behaviors.\n",
        "class Animal:\n",
        "  def sound(self):\n",
        "    pass\n",
        "\n",
        "class Dog(Animal):\n",
        "  def sound(self):\n",
        "    return \"Woof\"\n",
        "\n",
        "class Cat(Animal):\n",
        "  def sound(self):\n",
        "    return \"Meow\""
      ],
      "metadata": {
        "id": "JP-ZGBj2za25"
      },
      "execution_count": null,
      "outputs": []
    },
    {
      "cell_type": "code",
      "source": [
        "dog = Dog()\n",
        "print(dog.sound())\n",
        "\n",
        "cat = Cat()\n",
        "print(cat.sound())"
      ],
      "metadata": {
        "colab": {
          "base_uri": "https://localhost:8080/"
        },
        "id": "v8eu8hRI0xOB",
        "outputId": "67cb336c-7ce7-4cb6-89c2-bb2a25f98084"
      },
      "execution_count": null,
      "outputs": [
        {
          "output_type": "stream",
          "name": "stdout",
          "text": [
            "Woof\n",
            "Meow\n"
          ]
        }
      ]
    },
    {
      "cell_type": "code",
      "source": [
        "#Inheritance: Creating a new class by inheriting properties and behaviors from an existing class.\n",
        "class Person:\n",
        "    def __init__(self, name, age):\n",
        "        self.name = name\n",
        "        self.age = age\n",
        "\n",
        "    def display_info(self):\n",
        "        print(f\"Name: {self.name}, Age: {self.age}\")\n",
        "\n",
        "class Employee(Person):\n",
        "    def __init__(self, name, age, employee_id):\n",
        "        super().__init__(name, age)\n",
        "        self.employee_id = employee_id\n",
        "\n",
        "    def display_info(self):\n",
        "        super().display_info()\n",
        "        print(f\"Employee ID: {self.employee_id}\")"
      ],
      "metadata": {
        "id": "REAsPVJt01jc"
      },
      "execution_count": null,
      "outputs": []
    },
    {
      "cell_type": "code",
      "source": [
        "person = Person(\"John\", 25)\n",
        "person.display_info()\n",
        "\n",
        "employee = Employee(\"Alice\", 30, \"E123\")\n",
        "employee.display_info()"
      ],
      "metadata": {
        "colab": {
          "base_uri": "https://localhost:8080/"
        },
        "id": "K_lIjqiqdJfd",
        "outputId": "62f478bf-6eb4-4091-89cc-3d917b316016"
      },
      "execution_count": null,
      "outputs": [
        {
          "output_type": "stream",
          "name": "stdout",
          "text": [
            "Name: John, Age: 25\n",
            "Name: Alice, Age: 30\n",
            "Employee ID: E123\n"
          ]
        }
      ]
    },
    {
      "cell_type": "code",
      "source": [
        "#Polymorphism: Allowing objects of different classes to be treated as objects of a common base class.\n",
        "def animal_sound(animal):\n",
        "    return animal.sound()"
      ],
      "metadata": {
        "id": "-H17jcbpdToG"
      },
      "execution_count": null,
      "outputs": []
    },
    {
      "cell_type": "code",
      "source": [
        "print(animal_sound(dog))\n",
        "print(animal_sound(cat))"
      ],
      "metadata": {
        "colab": {
          "base_uri": "https://localhost:8080/"
        },
        "id": "JjROugnQdnya",
        "outputId": "dc2a3076-80e2-4d1c-dea6-460303be129b"
      },
      "execution_count": null,
      "outputs": [
        {
          "output_type": "stream",
          "name": "stdout",
          "text": [
            "Woof\n",
            "Meow\n"
          ]
        }
      ]
    },
    {
      "cell_type": "code",
      "source": [
        "# Combined example\n",
        "class Shape:\n",
        "    def area(self):\n",
        "        pass  # Abstract method\n",
        "\n",
        "class Circle(Shape):\n",
        "    def __init__(self, radius):\n",
        "        self.radius = radius\n",
        "\n",
        "    def area(self):\n",
        "        return 3.14 * self.radius * self.radius\n",
        "\n",
        "class Rectangle(Shape):\n",
        "    def __init__(self, length, width):\n",
        "        self.length = length\n",
        "        self.width = width\n",
        "\n",
        "    def area(self):\n",
        "        return self.length * self.width"
      ],
      "metadata": {
        "id": "wX2qY8dBdtIi"
      },
      "execution_count": null,
      "outputs": []
    },
    {
      "cell_type": "code",
      "source": [
        "shapes = [Circle(5), Rectangle(4, 6)]\n",
        "for shape in shapes:\n",
        "    print(f\"Area: {shape.area()}\")"
      ],
      "metadata": {
        "colab": {
          "base_uri": "https://localhost:8080/"
        },
        "id": "u3x_O35Ed3RG",
        "outputId": "d557e733-7190-40bc-db6e-a6516ac6d622"
      },
      "execution_count": null,
      "outputs": [
        {
          "output_type": "stream",
          "name": "stdout",
          "text": [
            "Area: 78.5\n",
            "Area: 24\n"
          ]
        }
      ]
    },
    {
      "cell_type": "code",
      "source": [],
      "metadata": {
        "id": "OEOaQJLId6zT"
      },
      "execution_count": null,
      "outputs": []
    }
  ]
}