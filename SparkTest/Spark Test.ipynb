{
 "cells": [
  {
   "cell_type": "markdown",
   "metadata": {
    "application/vnd.databricks.v1+cell": {
     "cellMetadata": {
      "byteLimit": 2048000,
      "rowLimit": 10000
     },
     "inputWidgets": {},
     "nuid": "96816ed7-b08a-4ca3-abb9-f99880c3535d",
     "showTitle": false,
     "title": ""
    }
   },
   "source": [
    "\n",
    "## Overview\n",
    "\n",
    "This notebook will show you how to create and query a table or DataFrame that you uploaded to DBFS. [DBFS](https://docs.databricks.com/user-guide/dbfs-databricks-file-system.html) is a Databricks File System that allows you to store data for querying inside of Databricks. This notebook assumes that you have a file already inside of DBFS that you would like to read from.\n",
    "\n",
    "This notebook is written in **Python** so the default cell type is Python. However, you can use different languages by using the `%LANGUAGE` syntax. Python, Scala, SQL, and R are all supported."
   ]
  },
  {
   "cell_type": "code",
   "execution_count": 0,
   "metadata": {
    "application/vnd.databricks.v1+cell": {
     "cellMetadata": {
      "byteLimit": 2048000,
      "rowLimit": 10000
     },
     "inputWidgets": {},
     "nuid": "6482be4c-f067-47c9-b0ac-35c938b94601",
     "showTitle": false,
     "title": ""
    }
   },
   "outputs": [
    {
     "output_type": "display_data",
     "data": {
      "text/html": [
       "<style scoped>\n",
       "  .table-result-container {\n",
       "    max-height: 300px;\n",
       "    overflow: auto;\n",
       "  }\n",
       "  table, th, td {\n",
       "    border: 1px solid black;\n",
       "    border-collapse: collapse;\n",
       "  }\n",
       "  th, td {\n",
       "    padding: 5px;\n",
       "  }\n",
       "  th {\n",
       "    text-align: left;\n",
       "  }\n",
       "</style><div class='table-result-container'><table class='table-result'><thead style='background-color: white'><tr><th>_c0</th><th>_c1</th><th>_c2</th><th>_c3</th><th>_c4</th></tr></thead><tbody><tr><td>5.1</td><td>3.5</td><td>1.4</td><td>0.2</td><td>Iris-setosa</td></tr><tr><td>4.9</td><td>3.0</td><td>1.4</td><td>0.2</td><td>Iris-setosa</td></tr><tr><td>4.7</td><td>3.2</td><td>1.3</td><td>0.2</td><td>Iris-setosa</td></tr><tr><td>4.6</td><td>3.1</td><td>1.5</td><td>0.2</td><td>Iris-setosa</td></tr><tr><td>5.0</td><td>3.6</td><td>1.4</td><td>0.2</td><td>Iris-setosa</td></tr><tr><td>5.4</td><td>3.9</td><td>1.7</td><td>0.4</td><td>Iris-setosa</td></tr><tr><td>4.6</td><td>3.4</td><td>1.4</td><td>0.3</td><td>Iris-setosa</td></tr><tr><td>5.0</td><td>3.4</td><td>1.5</td><td>0.2</td><td>Iris-setosa</td></tr><tr><td>4.4</td><td>2.9</td><td>1.4</td><td>0.2</td><td>Iris-setosa</td></tr><tr><td>4.9</td><td>3.1</td><td>1.5</td><td>0.1</td><td>Iris-setosa</td></tr><tr><td>5.4</td><td>3.7</td><td>1.5</td><td>0.2</td><td>Iris-setosa</td></tr><tr><td>4.8</td><td>3.4</td><td>1.6</td><td>0.2</td><td>Iris-setosa</td></tr><tr><td>4.8</td><td>3.0</td><td>1.4</td><td>0.1</td><td>Iris-setosa</td></tr><tr><td>4.3</td><td>3.0</td><td>1.1</td><td>0.1</td><td>Iris-setosa</td></tr><tr><td>5.8</td><td>4.0</td><td>1.2</td><td>0.2</td><td>Iris-setosa</td></tr><tr><td>5.7</td><td>4.4</td><td>1.5</td><td>0.4</td><td>Iris-setosa</td></tr><tr><td>5.4</td><td>3.9</td><td>1.3</td><td>0.4</td><td>Iris-setosa</td></tr><tr><td>5.1</td><td>3.5</td><td>1.4</td><td>0.3</td><td>Iris-setosa</td></tr><tr><td>5.7</td><td>3.8</td><td>1.7</td><td>0.3</td><td>Iris-setosa</td></tr><tr><td>5.1</td><td>3.8</td><td>1.5</td><td>0.3</td><td>Iris-setosa</td></tr><tr><td>5.4</td><td>3.4</td><td>1.7</td><td>0.2</td><td>Iris-setosa</td></tr><tr><td>5.1</td><td>3.7</td><td>1.5</td><td>0.4</td><td>Iris-setosa</td></tr><tr><td>4.6</td><td>3.6</td><td>1.0</td><td>0.2</td><td>Iris-setosa</td></tr><tr><td>5.1</td><td>3.3</td><td>1.7</td><td>0.5</td><td>Iris-setosa</td></tr><tr><td>4.8</td><td>3.4</td><td>1.9</td><td>0.2</td><td>Iris-setosa</td></tr><tr><td>5.0</td><td>3.0</td><td>1.6</td><td>0.2</td><td>Iris-setosa</td></tr><tr><td>5.0</td><td>3.4</td><td>1.6</td><td>0.4</td><td>Iris-setosa</td></tr><tr><td>5.2</td><td>3.5</td><td>1.5</td><td>0.2</td><td>Iris-setosa</td></tr><tr><td>5.2</td><td>3.4</td><td>1.4</td><td>0.2</td><td>Iris-setosa</td></tr><tr><td>4.7</td><td>3.2</td><td>1.6</td><td>0.2</td><td>Iris-setosa</td></tr><tr><td>4.8</td><td>3.1</td><td>1.6</td><td>0.2</td><td>Iris-setosa</td></tr><tr><td>5.4</td><td>3.4</td><td>1.5</td><td>0.4</td><td>Iris-setosa</td></tr><tr><td>5.2</td><td>4.1</td><td>1.5</td><td>0.1</td><td>Iris-setosa</td></tr><tr><td>5.5</td><td>4.2</td><td>1.4</td><td>0.2</td><td>Iris-setosa</td></tr><tr><td>4.9</td><td>3.1</td><td>1.5</td><td>0.1</td><td>Iris-setosa</td></tr><tr><td>5.0</td><td>3.2</td><td>1.2</td><td>0.2</td><td>Iris-setosa</td></tr><tr><td>5.5</td><td>3.5</td><td>1.3</td><td>0.2</td><td>Iris-setosa</td></tr><tr><td>4.9</td><td>3.1</td><td>1.5</td><td>0.1</td><td>Iris-setosa</td></tr><tr><td>4.4</td><td>3.0</td><td>1.3</td><td>0.2</td><td>Iris-setosa</td></tr><tr><td>5.1</td><td>3.4</td><td>1.5</td><td>0.2</td><td>Iris-setosa</td></tr><tr><td>5.0</td><td>3.5</td><td>1.3</td><td>0.3</td><td>Iris-setosa</td></tr><tr><td>4.5</td><td>2.3</td><td>1.3</td><td>0.3</td><td>Iris-setosa</td></tr><tr><td>4.4</td><td>3.2</td><td>1.3</td><td>0.2</td><td>Iris-setosa</td></tr><tr><td>5.0</td><td>3.5</td><td>1.6</td><td>0.6</td><td>Iris-setosa</td></tr><tr><td>5.1</td><td>3.8</td><td>1.9</td><td>0.4</td><td>Iris-setosa</td></tr><tr><td>4.8</td><td>3.0</td><td>1.4</td><td>0.3</td><td>Iris-setosa</td></tr><tr><td>5.1</td><td>3.8</td><td>1.6</td><td>0.2</td><td>Iris-setosa</td></tr><tr><td>4.6</td><td>3.2</td><td>1.4</td><td>0.2</td><td>Iris-setosa</td></tr><tr><td>5.3</td><td>3.7</td><td>1.5</td><td>0.2</td><td>Iris-setosa</td></tr><tr><td>5.0</td><td>3.3</td><td>1.4</td><td>0.2</td><td>Iris-setosa</td></tr><tr><td>7.0</td><td>3.2</td><td>4.7</td><td>1.4</td><td>Iris-versicolor</td></tr><tr><td>6.4</td><td>3.2</td><td>4.5</td><td>1.5</td><td>Iris-versicolor</td></tr><tr><td>6.9</td><td>3.1</td><td>4.9</td><td>1.5</td><td>Iris-versicolor</td></tr><tr><td>5.5</td><td>2.3</td><td>4.0</td><td>1.3</td><td>Iris-versicolor</td></tr><tr><td>6.5</td><td>2.8</td><td>4.6</td><td>1.5</td><td>Iris-versicolor</td></tr><tr><td>5.7</td><td>2.8</td><td>4.5</td><td>1.3</td><td>Iris-versicolor</td></tr><tr><td>6.3</td><td>3.3</td><td>4.7</td><td>1.6</td><td>Iris-versicolor</td></tr><tr><td>4.9</td><td>2.4</td><td>3.3</td><td>1.0</td><td>Iris-versicolor</td></tr><tr><td>6.6</td><td>2.9</td><td>4.6</td><td>1.3</td><td>Iris-versicolor</td></tr><tr><td>5.2</td><td>2.7</td><td>3.9</td><td>1.4</td><td>Iris-versicolor</td></tr><tr><td>5.0</td><td>2.0</td><td>3.5</td><td>1.0</td><td>Iris-versicolor</td></tr><tr><td>5.9</td><td>3.0</td><td>4.2</td><td>1.5</td><td>Iris-versicolor</td></tr><tr><td>6.0</td><td>2.2</td><td>4.0</td><td>1.0</td><td>Iris-versicolor</td></tr><tr><td>6.1</td><td>2.9</td><td>4.7</td><td>1.4</td><td>Iris-versicolor</td></tr><tr><td>5.6</td><td>2.9</td><td>3.6</td><td>1.3</td><td>Iris-versicolor</td></tr><tr><td>6.7</td><td>3.1</td><td>4.4</td><td>1.4</td><td>Iris-versicolor</td></tr><tr><td>5.6</td><td>3.0</td><td>4.5</td><td>1.5</td><td>Iris-versicolor</td></tr><tr><td>5.8</td><td>2.7</td><td>4.1</td><td>1.0</td><td>Iris-versicolor</td></tr><tr><td>6.2</td><td>2.2</td><td>4.5</td><td>1.5</td><td>Iris-versicolor</td></tr><tr><td>5.6</td><td>2.5</td><td>3.9</td><td>1.1</td><td>Iris-versicolor</td></tr><tr><td>5.9</td><td>3.2</td><td>4.8</td><td>1.8</td><td>Iris-versicolor</td></tr><tr><td>6.1</td><td>2.8</td><td>4.0</td><td>1.3</td><td>Iris-versicolor</td></tr><tr><td>6.3</td><td>2.5</td><td>4.9</td><td>1.5</td><td>Iris-versicolor</td></tr><tr><td>6.1</td><td>2.8</td><td>4.7</td><td>1.2</td><td>Iris-versicolor</td></tr><tr><td>6.4</td><td>2.9</td><td>4.3</td><td>1.3</td><td>Iris-versicolor</td></tr><tr><td>6.6</td><td>3.0</td><td>4.4</td><td>1.4</td><td>Iris-versicolor</td></tr><tr><td>6.8</td><td>2.8</td><td>4.8</td><td>1.4</td><td>Iris-versicolor</td></tr><tr><td>6.7</td><td>3.0</td><td>5.0</td><td>1.7</td><td>Iris-versicolor</td></tr><tr><td>6.0</td><td>2.9</td><td>4.5</td><td>1.5</td><td>Iris-versicolor</td></tr><tr><td>5.7</td><td>2.6</td><td>3.5</td><td>1.0</td><td>Iris-versicolor</td></tr><tr><td>5.5</td><td>2.4</td><td>3.8</td><td>1.1</td><td>Iris-versicolor</td></tr><tr><td>5.5</td><td>2.4</td><td>3.7</td><td>1.0</td><td>Iris-versicolor</td></tr><tr><td>5.8</td><td>2.7</td><td>3.9</td><td>1.2</td><td>Iris-versicolor</td></tr><tr><td>6.0</td><td>2.7</td><td>5.1</td><td>1.6</td><td>Iris-versicolor</td></tr><tr><td>5.4</td><td>3.0</td><td>4.5</td><td>1.5</td><td>Iris-versicolor</td></tr><tr><td>6.0</td><td>3.4</td><td>4.5</td><td>1.6</td><td>Iris-versicolor</td></tr><tr><td>6.7</td><td>3.1</td><td>4.7</td><td>1.5</td><td>Iris-versicolor</td></tr><tr><td>6.3</td><td>2.3</td><td>4.4</td><td>1.3</td><td>Iris-versicolor</td></tr><tr><td>5.6</td><td>3.0</td><td>4.1</td><td>1.3</td><td>Iris-versicolor</td></tr><tr><td>5.5</td><td>2.5</td><td>4.0</td><td>1.3</td><td>Iris-versicolor</td></tr><tr><td>5.5</td><td>2.6</td><td>4.4</td><td>1.2</td><td>Iris-versicolor</td></tr><tr><td>6.1</td><td>3.0</td><td>4.6</td><td>1.4</td><td>Iris-versicolor</td></tr><tr><td>5.8</td><td>2.6</td><td>4.0</td><td>1.2</td><td>Iris-versicolor</td></tr><tr><td>5.0</td><td>2.3</td><td>3.3</td><td>1.0</td><td>Iris-versicolor</td></tr><tr><td>5.6</td><td>2.7</td><td>4.2</td><td>1.3</td><td>Iris-versicolor</td></tr><tr><td>5.7</td><td>3.0</td><td>4.2</td><td>1.2</td><td>Iris-versicolor</td></tr><tr><td>5.7</td><td>2.9</td><td>4.2</td><td>1.3</td><td>Iris-versicolor</td></tr><tr><td>6.2</td><td>2.9</td><td>4.3</td><td>1.3</td><td>Iris-versicolor</td></tr><tr><td>5.1</td><td>2.5</td><td>3.0</td><td>1.1</td><td>Iris-versicolor</td></tr><tr><td>5.7</td><td>2.8</td><td>4.1</td><td>1.3</td><td>Iris-versicolor</td></tr><tr><td>6.3</td><td>3.3</td><td>6.0</td><td>2.5</td><td>Iris-virginica</td></tr><tr><td>5.8</td><td>2.7</td><td>5.1</td><td>1.9</td><td>Iris-virginica</td></tr><tr><td>7.1</td><td>3.0</td><td>5.9</td><td>2.1</td><td>Iris-virginica</td></tr><tr><td>6.3</td><td>2.9</td><td>5.6</td><td>1.8</td><td>Iris-virginica</td></tr><tr><td>6.5</td><td>3.0</td><td>5.8</td><td>2.2</td><td>Iris-virginica</td></tr><tr><td>7.6</td><td>3.0</td><td>6.6</td><td>2.1</td><td>Iris-virginica</td></tr><tr><td>4.9</td><td>2.5</td><td>4.5</td><td>1.7</td><td>Iris-virginica</td></tr><tr><td>7.3</td><td>2.9</td><td>6.3</td><td>1.8</td><td>Iris-virginica</td></tr><tr><td>6.7</td><td>2.5</td><td>5.8</td><td>1.8</td><td>Iris-virginica</td></tr><tr><td>7.2</td><td>3.6</td><td>6.1</td><td>2.5</td><td>Iris-virginica</td></tr><tr><td>6.5</td><td>3.2</td><td>5.1</td><td>2.0</td><td>Iris-virginica</td></tr><tr><td>6.4</td><td>2.7</td><td>5.3</td><td>1.9</td><td>Iris-virginica</td></tr><tr><td>6.8</td><td>3.0</td><td>5.5</td><td>2.1</td><td>Iris-virginica</td></tr><tr><td>5.7</td><td>2.5</td><td>5.0</td><td>2.0</td><td>Iris-virginica</td></tr><tr><td>5.8</td><td>2.8</td><td>5.1</td><td>2.4</td><td>Iris-virginica</td></tr><tr><td>6.4</td><td>3.2</td><td>5.3</td><td>2.3</td><td>Iris-virginica</td></tr><tr><td>6.5</td><td>3.0</td><td>5.5</td><td>1.8</td><td>Iris-virginica</td></tr><tr><td>7.7</td><td>3.8</td><td>6.7</td><td>2.2</td><td>Iris-virginica</td></tr><tr><td>7.7</td><td>2.6</td><td>6.9</td><td>2.3</td><td>Iris-virginica</td></tr><tr><td>6.0</td><td>2.2</td><td>5.0</td><td>1.5</td><td>Iris-virginica</td></tr><tr><td>6.9</td><td>3.2</td><td>5.7</td><td>2.3</td><td>Iris-virginica</td></tr><tr><td>5.6</td><td>2.8</td><td>4.9</td><td>2.0</td><td>Iris-virginica</td></tr><tr><td>7.7</td><td>2.8</td><td>6.7</td><td>2.0</td><td>Iris-virginica</td></tr><tr><td>6.3</td><td>2.7</td><td>4.9</td><td>1.8</td><td>Iris-virginica</td></tr><tr><td>6.7</td><td>3.3</td><td>5.7</td><td>2.1</td><td>Iris-virginica</td></tr><tr><td>7.2</td><td>3.2</td><td>6.0</td><td>1.8</td><td>Iris-virginica</td></tr><tr><td>6.2</td><td>2.8</td><td>4.8</td><td>1.8</td><td>Iris-virginica</td></tr><tr><td>6.1</td><td>3.0</td><td>4.9</td><td>1.8</td><td>Iris-virginica</td></tr><tr><td>6.4</td><td>2.8</td><td>5.6</td><td>2.1</td><td>Iris-virginica</td></tr><tr><td>7.2</td><td>3.0</td><td>5.8</td><td>1.6</td><td>Iris-virginica</td></tr><tr><td>7.4</td><td>2.8</td><td>6.1</td><td>1.9</td><td>Iris-virginica</td></tr><tr><td>7.9</td><td>3.8</td><td>6.4</td><td>2.0</td><td>Iris-virginica</td></tr><tr><td>6.4</td><td>2.8</td><td>5.6</td><td>2.2</td><td>Iris-virginica</td></tr><tr><td>6.3</td><td>2.8</td><td>5.1</td><td>1.5</td><td>Iris-virginica</td></tr><tr><td>6.1</td><td>2.6</td><td>5.6</td><td>1.4</td><td>Iris-virginica</td></tr><tr><td>7.7</td><td>3.0</td><td>6.1</td><td>2.3</td><td>Iris-virginica</td></tr><tr><td>6.3</td><td>3.4</td><td>5.6</td><td>2.4</td><td>Iris-virginica</td></tr><tr><td>6.4</td><td>3.1</td><td>5.5</td><td>1.8</td><td>Iris-virginica</td></tr><tr><td>6.0</td><td>3.0</td><td>4.8</td><td>1.8</td><td>Iris-virginica</td></tr><tr><td>6.9</td><td>3.1</td><td>5.4</td><td>2.1</td><td>Iris-virginica</td></tr><tr><td>6.7</td><td>3.1</td><td>5.6</td><td>2.4</td><td>Iris-virginica</td></tr><tr><td>6.9</td><td>3.1</td><td>5.1</td><td>2.3</td><td>Iris-virginica</td></tr><tr><td>5.8</td><td>2.7</td><td>5.1</td><td>1.9</td><td>Iris-virginica</td></tr><tr><td>6.8</td><td>3.2</td><td>5.9</td><td>2.3</td><td>Iris-virginica</td></tr><tr><td>6.7</td><td>3.3</td><td>5.7</td><td>2.5</td><td>Iris-virginica</td></tr><tr><td>6.7</td><td>3.0</td><td>5.2</td><td>2.3</td><td>Iris-virginica</td></tr><tr><td>6.3</td><td>2.5</td><td>5.0</td><td>1.9</td><td>Iris-virginica</td></tr><tr><td>6.5</td><td>3.0</td><td>5.2</td><td>2.0</td><td>Iris-virginica</td></tr><tr><td>6.2</td><td>3.4</td><td>5.4</td><td>2.3</td><td>Iris-virginica</td></tr><tr><td>5.9</td><td>3.0</td><td>5.1</td><td>1.8</td><td>Iris-virginica</td></tr></tbody></table></div>"
      ]
     },
     "metadata": {
      "application/vnd.databricks.v1+output": {
       "addedWidgets": {},
       "aggData": [],
       "aggError": "",
       "aggOverflow": false,
       "aggSchema": [],
       "aggSeriesLimitReached": false,
       "aggType": "",
       "arguments": {},
       "columnCustomDisplayInfos": {},
       "data": [
        [
         "5.1",
         "3.5",
         "1.4",
         "0.2",
         "Iris-setosa"
        ],
        [
         "4.9",
         "3.0",
         "1.4",
         "0.2",
         "Iris-setosa"
        ],
        [
         "4.7",
         "3.2",
         "1.3",
         "0.2",
         "Iris-setosa"
        ],
        [
         "4.6",
         "3.1",
         "1.5",
         "0.2",
         "Iris-setosa"
        ],
        [
         "5.0",
         "3.6",
         "1.4",
         "0.2",
         "Iris-setosa"
        ],
        [
         "5.4",
         "3.9",
         "1.7",
         "0.4",
         "Iris-setosa"
        ],
        [
         "4.6",
         "3.4",
         "1.4",
         "0.3",
         "Iris-setosa"
        ],
        [
         "5.0",
         "3.4",
         "1.5",
         "0.2",
         "Iris-setosa"
        ],
        [
         "4.4",
         "2.9",
         "1.4",
         "0.2",
         "Iris-setosa"
        ],
        [
         "4.9",
         "3.1",
         "1.5",
         "0.1",
         "Iris-setosa"
        ],
        [
         "5.4",
         "3.7",
         "1.5",
         "0.2",
         "Iris-setosa"
        ],
        [
         "4.8",
         "3.4",
         "1.6",
         "0.2",
         "Iris-setosa"
        ],
        [
         "4.8",
         "3.0",
         "1.4",
         "0.1",
         "Iris-setosa"
        ],
        [
         "4.3",
         "3.0",
         "1.1",
         "0.1",
         "Iris-setosa"
        ],
        [
         "5.8",
         "4.0",
         "1.2",
         "0.2",
         "Iris-setosa"
        ],
        [
         "5.7",
         "4.4",
         "1.5",
         "0.4",
         "Iris-setosa"
        ],
        [
         "5.4",
         "3.9",
         "1.3",
         "0.4",
         "Iris-setosa"
        ],
        [
         "5.1",
         "3.5",
         "1.4",
         "0.3",
         "Iris-setosa"
        ],
        [
         "5.7",
         "3.8",
         "1.7",
         "0.3",
         "Iris-setosa"
        ],
        [
         "5.1",
         "3.8",
         "1.5",
         "0.3",
         "Iris-setosa"
        ],
        [
         "5.4",
         "3.4",
         "1.7",
         "0.2",
         "Iris-setosa"
        ],
        [
         "5.1",
         "3.7",
         "1.5",
         "0.4",
         "Iris-setosa"
        ],
        [
         "4.6",
         "3.6",
         "1.0",
         "0.2",
         "Iris-setosa"
        ],
        [
         "5.1",
         "3.3",
         "1.7",
         "0.5",
         "Iris-setosa"
        ],
        [
         "4.8",
         "3.4",
         "1.9",
         "0.2",
         "Iris-setosa"
        ],
        [
         "5.0",
         "3.0",
         "1.6",
         "0.2",
         "Iris-setosa"
        ],
        [
         "5.0",
         "3.4",
         "1.6",
         "0.4",
         "Iris-setosa"
        ],
        [
         "5.2",
         "3.5",
         "1.5",
         "0.2",
         "Iris-setosa"
        ],
        [
         "5.2",
         "3.4",
         "1.4",
         "0.2",
         "Iris-setosa"
        ],
        [
         "4.7",
         "3.2",
         "1.6",
         "0.2",
         "Iris-setosa"
        ],
        [
         "4.8",
         "3.1",
         "1.6",
         "0.2",
         "Iris-setosa"
        ],
        [
         "5.4",
         "3.4",
         "1.5",
         "0.4",
         "Iris-setosa"
        ],
        [
         "5.2",
         "4.1",
         "1.5",
         "0.1",
         "Iris-setosa"
        ],
        [
         "5.5",
         "4.2",
         "1.4",
         "0.2",
         "Iris-setosa"
        ],
        [
         "4.9",
         "3.1",
         "1.5",
         "0.1",
         "Iris-setosa"
        ],
        [
         "5.0",
         "3.2",
         "1.2",
         "0.2",
         "Iris-setosa"
        ],
        [
         "5.5",
         "3.5",
         "1.3",
         "0.2",
         "Iris-setosa"
        ],
        [
         "4.9",
         "3.1",
         "1.5",
         "0.1",
         "Iris-setosa"
        ],
        [
         "4.4",
         "3.0",
         "1.3",
         "0.2",
         "Iris-setosa"
        ],
        [
         "5.1",
         "3.4",
         "1.5",
         "0.2",
         "Iris-setosa"
        ],
        [
         "5.0",
         "3.5",
         "1.3",
         "0.3",
         "Iris-setosa"
        ],
        [
         "4.5",
         "2.3",
         "1.3",
         "0.3",
         "Iris-setosa"
        ],
        [
         "4.4",
         "3.2",
         "1.3",
         "0.2",
         "Iris-setosa"
        ],
        [
         "5.0",
         "3.5",
         "1.6",
         "0.6",
         "Iris-setosa"
        ],
        [
         "5.1",
         "3.8",
         "1.9",
         "0.4",
         "Iris-setosa"
        ],
        [
         "4.8",
         "3.0",
         "1.4",
         "0.3",
         "Iris-setosa"
        ],
        [
         "5.1",
         "3.8",
         "1.6",
         "0.2",
         "Iris-setosa"
        ],
        [
         "4.6",
         "3.2",
         "1.4",
         "0.2",
         "Iris-setosa"
        ],
        [
         "5.3",
         "3.7",
         "1.5",
         "0.2",
         "Iris-setosa"
        ],
        [
         "5.0",
         "3.3",
         "1.4",
         "0.2",
         "Iris-setosa"
        ],
        [
         "7.0",
         "3.2",
         "4.7",
         "1.4",
         "Iris-versicolor"
        ],
        [
         "6.4",
         "3.2",
         "4.5",
         "1.5",
         "Iris-versicolor"
        ],
        [
         "6.9",
         "3.1",
         "4.9",
         "1.5",
         "Iris-versicolor"
        ],
        [
         "5.5",
         "2.3",
         "4.0",
         "1.3",
         "Iris-versicolor"
        ],
        [
         "6.5",
         "2.8",
         "4.6",
         "1.5",
         "Iris-versicolor"
        ],
        [
         "5.7",
         "2.8",
         "4.5",
         "1.3",
         "Iris-versicolor"
        ],
        [
         "6.3",
         "3.3",
         "4.7",
         "1.6",
         "Iris-versicolor"
        ],
        [
         "4.9",
         "2.4",
         "3.3",
         "1.0",
         "Iris-versicolor"
        ],
        [
         "6.6",
         "2.9",
         "4.6",
         "1.3",
         "Iris-versicolor"
        ],
        [
         "5.2",
         "2.7",
         "3.9",
         "1.4",
         "Iris-versicolor"
        ],
        [
         "5.0",
         "2.0",
         "3.5",
         "1.0",
         "Iris-versicolor"
        ],
        [
         "5.9",
         "3.0",
         "4.2",
         "1.5",
         "Iris-versicolor"
        ],
        [
         "6.0",
         "2.2",
         "4.0",
         "1.0",
         "Iris-versicolor"
        ],
        [
         "6.1",
         "2.9",
         "4.7",
         "1.4",
         "Iris-versicolor"
        ],
        [
         "5.6",
         "2.9",
         "3.6",
         "1.3",
         "Iris-versicolor"
        ],
        [
         "6.7",
         "3.1",
         "4.4",
         "1.4",
         "Iris-versicolor"
        ],
        [
         "5.6",
         "3.0",
         "4.5",
         "1.5",
         "Iris-versicolor"
        ],
        [
         "5.8",
         "2.7",
         "4.1",
         "1.0",
         "Iris-versicolor"
        ],
        [
         "6.2",
         "2.2",
         "4.5",
         "1.5",
         "Iris-versicolor"
        ],
        [
         "5.6",
         "2.5",
         "3.9",
         "1.1",
         "Iris-versicolor"
        ],
        [
         "5.9",
         "3.2",
         "4.8",
         "1.8",
         "Iris-versicolor"
        ],
        [
         "6.1",
         "2.8",
         "4.0",
         "1.3",
         "Iris-versicolor"
        ],
        [
         "6.3",
         "2.5",
         "4.9",
         "1.5",
         "Iris-versicolor"
        ],
        [
         "6.1",
         "2.8",
         "4.7",
         "1.2",
         "Iris-versicolor"
        ],
        [
         "6.4",
         "2.9",
         "4.3",
         "1.3",
         "Iris-versicolor"
        ],
        [
         "6.6",
         "3.0",
         "4.4",
         "1.4",
         "Iris-versicolor"
        ],
        [
         "6.8",
         "2.8",
         "4.8",
         "1.4",
         "Iris-versicolor"
        ],
        [
         "6.7",
         "3.0",
         "5.0",
         "1.7",
         "Iris-versicolor"
        ],
        [
         "6.0",
         "2.9",
         "4.5",
         "1.5",
         "Iris-versicolor"
        ],
        [
         "5.7",
         "2.6",
         "3.5",
         "1.0",
         "Iris-versicolor"
        ],
        [
         "5.5",
         "2.4",
         "3.8",
         "1.1",
         "Iris-versicolor"
        ],
        [
         "5.5",
         "2.4",
         "3.7",
         "1.0",
         "Iris-versicolor"
        ],
        [
         "5.8",
         "2.7",
         "3.9",
         "1.2",
         "Iris-versicolor"
        ],
        [
         "6.0",
         "2.7",
         "5.1",
         "1.6",
         "Iris-versicolor"
        ],
        [
         "5.4",
         "3.0",
         "4.5",
         "1.5",
         "Iris-versicolor"
        ],
        [
         "6.0",
         "3.4",
         "4.5",
         "1.6",
         "Iris-versicolor"
        ],
        [
         "6.7",
         "3.1",
         "4.7",
         "1.5",
         "Iris-versicolor"
        ],
        [
         "6.3",
         "2.3",
         "4.4",
         "1.3",
         "Iris-versicolor"
        ],
        [
         "5.6",
         "3.0",
         "4.1",
         "1.3",
         "Iris-versicolor"
        ],
        [
         "5.5",
         "2.5",
         "4.0",
         "1.3",
         "Iris-versicolor"
        ],
        [
         "5.5",
         "2.6",
         "4.4",
         "1.2",
         "Iris-versicolor"
        ],
        [
         "6.1",
         "3.0",
         "4.6",
         "1.4",
         "Iris-versicolor"
        ],
        [
         "5.8",
         "2.6",
         "4.0",
         "1.2",
         "Iris-versicolor"
        ],
        [
         "5.0",
         "2.3",
         "3.3",
         "1.0",
         "Iris-versicolor"
        ],
        [
         "5.6",
         "2.7",
         "4.2",
         "1.3",
         "Iris-versicolor"
        ],
        [
         "5.7",
         "3.0",
         "4.2",
         "1.2",
         "Iris-versicolor"
        ],
        [
         "5.7",
         "2.9",
         "4.2",
         "1.3",
         "Iris-versicolor"
        ],
        [
         "6.2",
         "2.9",
         "4.3",
         "1.3",
         "Iris-versicolor"
        ],
        [
         "5.1",
         "2.5",
         "3.0",
         "1.1",
         "Iris-versicolor"
        ],
        [
         "5.7",
         "2.8",
         "4.1",
         "1.3",
         "Iris-versicolor"
        ],
        [
         "6.3",
         "3.3",
         "6.0",
         "2.5",
         "Iris-virginica"
        ],
        [
         "5.8",
         "2.7",
         "5.1",
         "1.9",
         "Iris-virginica"
        ],
        [
         "7.1",
         "3.0",
         "5.9",
         "2.1",
         "Iris-virginica"
        ],
        [
         "6.3",
         "2.9",
         "5.6",
         "1.8",
         "Iris-virginica"
        ],
        [
         "6.5",
         "3.0",
         "5.8",
         "2.2",
         "Iris-virginica"
        ],
        [
         "7.6",
         "3.0",
         "6.6",
         "2.1",
         "Iris-virginica"
        ],
        [
         "4.9",
         "2.5",
         "4.5",
         "1.7",
         "Iris-virginica"
        ],
        [
         "7.3",
         "2.9",
         "6.3",
         "1.8",
         "Iris-virginica"
        ],
        [
         "6.7",
         "2.5",
         "5.8",
         "1.8",
         "Iris-virginica"
        ],
        [
         "7.2",
         "3.6",
         "6.1",
         "2.5",
         "Iris-virginica"
        ],
        [
         "6.5",
         "3.2",
         "5.1",
         "2.0",
         "Iris-virginica"
        ],
        [
         "6.4",
         "2.7",
         "5.3",
         "1.9",
         "Iris-virginica"
        ],
        [
         "6.8",
         "3.0",
         "5.5",
         "2.1",
         "Iris-virginica"
        ],
        [
         "5.7",
         "2.5",
         "5.0",
         "2.0",
         "Iris-virginica"
        ],
        [
         "5.8",
         "2.8",
         "5.1",
         "2.4",
         "Iris-virginica"
        ],
        [
         "6.4",
         "3.2",
         "5.3",
         "2.3",
         "Iris-virginica"
        ],
        [
         "6.5",
         "3.0",
         "5.5",
         "1.8",
         "Iris-virginica"
        ],
        [
         "7.7",
         "3.8",
         "6.7",
         "2.2",
         "Iris-virginica"
        ],
        [
         "7.7",
         "2.6",
         "6.9",
         "2.3",
         "Iris-virginica"
        ],
        [
         "6.0",
         "2.2",
         "5.0",
         "1.5",
         "Iris-virginica"
        ],
        [
         "6.9",
         "3.2",
         "5.7",
         "2.3",
         "Iris-virginica"
        ],
        [
         "5.6",
         "2.8",
         "4.9",
         "2.0",
         "Iris-virginica"
        ],
        [
         "7.7",
         "2.8",
         "6.7",
         "2.0",
         "Iris-virginica"
        ],
        [
         "6.3",
         "2.7",
         "4.9",
         "1.8",
         "Iris-virginica"
        ],
        [
         "6.7",
         "3.3",
         "5.7",
         "2.1",
         "Iris-virginica"
        ],
        [
         "7.2",
         "3.2",
         "6.0",
         "1.8",
         "Iris-virginica"
        ],
        [
         "6.2",
         "2.8",
         "4.8",
         "1.8",
         "Iris-virginica"
        ],
        [
         "6.1",
         "3.0",
         "4.9",
         "1.8",
         "Iris-virginica"
        ],
        [
         "6.4",
         "2.8",
         "5.6",
         "2.1",
         "Iris-virginica"
        ],
        [
         "7.2",
         "3.0",
         "5.8",
         "1.6",
         "Iris-virginica"
        ],
        [
         "7.4",
         "2.8",
         "6.1",
         "1.9",
         "Iris-virginica"
        ],
        [
         "7.9",
         "3.8",
         "6.4",
         "2.0",
         "Iris-virginica"
        ],
        [
         "6.4",
         "2.8",
         "5.6",
         "2.2",
         "Iris-virginica"
        ],
        [
         "6.3",
         "2.8",
         "5.1",
         "1.5",
         "Iris-virginica"
        ],
        [
         "6.1",
         "2.6",
         "5.6",
         "1.4",
         "Iris-virginica"
        ],
        [
         "7.7",
         "3.0",
         "6.1",
         "2.3",
         "Iris-virginica"
        ],
        [
         "6.3",
         "3.4",
         "5.6",
         "2.4",
         "Iris-virginica"
        ],
        [
         "6.4",
         "3.1",
         "5.5",
         "1.8",
         "Iris-virginica"
        ],
        [
         "6.0",
         "3.0",
         "4.8",
         "1.8",
         "Iris-virginica"
        ],
        [
         "6.9",
         "3.1",
         "5.4",
         "2.1",
         "Iris-virginica"
        ],
        [
         "6.7",
         "3.1",
         "5.6",
         "2.4",
         "Iris-virginica"
        ],
        [
         "6.9",
         "3.1",
         "5.1",
         "2.3",
         "Iris-virginica"
        ],
        [
         "5.8",
         "2.7",
         "5.1",
         "1.9",
         "Iris-virginica"
        ],
        [
         "6.8",
         "3.2",
         "5.9",
         "2.3",
         "Iris-virginica"
        ],
        [
         "6.7",
         "3.3",
         "5.7",
         "2.5",
         "Iris-virginica"
        ],
        [
         "6.7",
         "3.0",
         "5.2",
         "2.3",
         "Iris-virginica"
        ],
        [
         "6.3",
         "2.5",
         "5.0",
         "1.9",
         "Iris-virginica"
        ],
        [
         "6.5",
         "3.0",
         "5.2",
         "2.0",
         "Iris-virginica"
        ],
        [
         "6.2",
         "3.4",
         "5.4",
         "2.3",
         "Iris-virginica"
        ],
        [
         "5.9",
         "3.0",
         "5.1",
         "1.8",
         "Iris-virginica"
        ]
       ],
       "datasetInfos": [],
       "dbfsResultPath": null,
       "isJsonSchema": true,
       "metadata": {},
       "overflow": false,
       "plotOptions": {
        "customPlotOptions": {},
        "displayType": "table",
        "pivotAggregation": null,
        "pivotColumns": null,
        "xColumns": null,
        "yColumns": null
       },
       "removedWidgets": [],
       "schema": [
        {
         "metadata": "{}",
         "name": "_c0",
         "type": "\"string\""
        },
        {
         "metadata": "{}",
         "name": "_c1",
         "type": "\"string\""
        },
        {
         "metadata": "{}",
         "name": "_c2",
         "type": "\"string\""
        },
        {
         "metadata": "{}",
         "name": "_c3",
         "type": "\"string\""
        },
        {
         "metadata": "{}",
         "name": "_c4",
         "type": "\"string\""
        }
       ],
       "type": "table"
      }
     },
     "output_type": "display_data"
    }
   ],
   "source": [
    "# File location and type\n",
    "file_location = \"/FileStore/tables/iris_data.csv\"\n",
    "file_type = \"csv\"\n",
    "\n",
    "# CSV options\n",
    "infer_schema = \"false\"\n",
    "first_row_is_header = \"false\"\n",
    "delimiter = \",\"\n",
    "\n",
    "# The applied options are for CSV files. For other file types, these will be ignored.\n",
    "df = spark.read.format(file_type) \\\n",
    "  .option(\"inferSchema\", infer_schema) \\\n",
    "  .option(\"header\", first_row_is_header) \\\n",
    "  .option(\"sep\", delimiter) \\\n",
    "  .load(file_location)\n",
    "\n",
    "display(df)"
   ]
  },
  {
   "cell_type": "code",
   "execution_count": 0,
   "metadata": {
    "application/vnd.databricks.v1+cell": {
     "cellMetadata": {
      "byteLimit": 2048000,
      "rowLimit": 10000
     },
     "inputWidgets": {},
     "nuid": "396acbc7-c96c-45b6-aea8-4d1a1a47eb48",
     "showTitle": false,
     "title": ""
    }
   },
   "outputs": [
    {
     "output_type": "stream",
     "name": "stdout",
     "output_type": "stream",
     "text": [
      "+---+---+---+---+-----------+\n|_c0|_c1|_c2|_c3|_c4        |\n+---+---+---+---+-----------+\n|5.1|3.5|1.4|0.2|Iris-setosa|\n|4.9|3.0|1.4|0.2|Iris-setosa|\n|4.7|3.2|1.3|0.2|Iris-setosa|\n|4.6|3.1|1.5|0.2|Iris-setosa|\n|5.0|3.6|1.4|0.2|Iris-setosa|\n+---+---+---+---+-----------+\nonly showing top 5 rows\n\n"
     ]
    }
   ],
   "source": [
    "#Show Header:\n",
    "df.show(5, truncate= False)"
   ]
  },
  {
   "cell_type": "code",
   "execution_count": 0,
   "metadata": {
    "application/vnd.databricks.v1+cell": {
     "cellMetadata": {
      "byteLimit": 2048000,
      "rowLimit": 10000
     },
     "inputWidgets": {},
     "nuid": "ed92c5d8-db07-48a1-8f3a-84f02e3d060e",
     "showTitle": false,
     "title": ""
    }
   },
   "outputs": [
    {
     "output_type": "stream",
     "name": "stdout",
     "output_type": "stream",
     "text": [
      "Number of rows: 150\n"
     ]
    }
   ],
   "source": [
    "#Count Number of rows:\n",
    "df_count = df.count()\n",
    "print(\"Number of rows:\", df_count)"
   ]
  },
  {
   "cell_type": "code",
   "execution_count": 0,
   "metadata": {
    "application/vnd.databricks.v1+cell": {
     "cellMetadata": {
      "byteLimit": 2048000,
      "rowLimit": 10000
     },
     "inputWidgets": {},
     "nuid": "cd6448f9-8aab-448d-a34b-7e53160f9d44",
     "showTitle": false,
     "title": ""
    }
   },
   "outputs": [
    {
     "output_type": "stream",
     "name": "stdout",
     "output_type": "stream",
     "text": [
      "Number of Setosa: 50\n"
     ]
    }
   ],
   "source": [
    "setosa = df.filter(df[\"_c4\"] == \"Iris-setosa\").count()\n",
    "print(\"Number of Setosa:\", setosa)"
   ]
  },
  {
   "cell_type": "code",
   "execution_count": 0,
   "metadata": {
    "application/vnd.databricks.v1+cell": {
     "cellMetadata": {
      "byteLimit": 2048000,
      "rowLimit": 10000
     },
     "inputWidgets": {},
     "nuid": "511e7cca-53b1-42f3-901a-c7883f973267",
     "showTitle": false,
     "title": ""
    }
   },
   "outputs": [
    {
     "output_type": "stream",
     "name": "stdout",
     "output_type": "stream",
     "text": [
      "+---------------+-----+\n|            _c4|count|\n+---------------+-----+\n| Iris-virginica|   50|\n|    Iris-setosa|   50|\n|Iris-versicolor|   50|\n+---------------+-----+\n\n"
     ]
    }
   ],
   "source": [
    "#Group by Columns:\n",
    "group_df = df.groupBy(\"_c4\").count()\n",
    "group_df.show()"
   ]
  },
  {
   "cell_type": "code",
   "execution_count": 0,
   "metadata": {
    "application/vnd.databricks.v1+cell": {
     "cellMetadata": {},
     "inputWidgets": {},
     "nuid": "4a9c5a6c-9b0e-4327-9fec-bc1fb4610bba",
     "showTitle": false,
     "title": ""
    }
   },
   "outputs": [],
   "source": []
  }
 ],
 "metadata": {
  "application/vnd.databricks.v1+notebook": {
   "dashboards": [],
   "language": "python",
   "notebookMetadata": {
    "mostRecentlyExecutedCommandWithImplicitDF": {
     "commandId": 279479028997711,
     "dataframes": [
      "_sqldf"
     ]
    },
    "pythonIndentUnit": 4
   },
   "notebookName": "Spark Test",
   "widgets": {}
  }
 },
 "nbformat": 4,
 "nbformat_minor": 0
}
